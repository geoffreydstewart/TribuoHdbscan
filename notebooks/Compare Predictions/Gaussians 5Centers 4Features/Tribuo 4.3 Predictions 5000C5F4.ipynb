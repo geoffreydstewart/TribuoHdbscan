{
 "cells": [
  {
   "cell_type": "markdown",
   "metadata": {},
   "source": [
    "## This generates Tribuo Hdbscan predictions from dataset: 5000 records, 5 centers, 4 features"
   ]
  },
  {
   "cell_type": "code",
   "execution_count": 1,
   "metadata": {},
   "outputs": [],
   "source": [
    "%jars ../../../jars/junit-jupiter-api-5.7.0.jar\n",
    "%jars ../../../jars/opentest4j-1.2.0.jar\n",
    "%jars ../../../jars/junit-platform-commons-1.7.1.jar\n",
    "%jars ../../../jars/tribuo-clustering-hdbscan-4.3.0-jar-with-dependencies.jar"
   ]
  },
  {
   "cell_type": "code",
   "execution_count": 2,
   "metadata": {},
   "outputs": [],
   "source": [
    "import java.nio.file.Paths;\n",
    "import java.util.*;\n",
    "import java.util.stream.Collectors;\n",
    "import static org.junit.jupiter.api.Assertions.*;"
   ]
  },
  {
   "cell_type": "code",
   "execution_count": 3,
   "metadata": {},
   "outputs": [],
   "source": [
    "import org.tribuo.Dataset;\n",
    "import org.tribuo.Feature;\n",
    "import org.tribuo.MutableDataset;\n",
    "import org.tribuo.Prediction;\n",
    "import org.tribuo.clustering.ClusterID;\n",
    "import org.tribuo.clustering.ClusteringFactory;\n",
    "import org.tribuo.clustering.hdbscan.HdbscanModel;\n",
    "import org.tribuo.clustering.hdbscan.HdbscanTrainer;\n",
    "import org.tribuo.data.columnar.FieldProcessor;\n",
    "import org.tribuo.data.columnar.ResponseProcessor;\n",
    "import org.tribuo.data.columnar.RowProcessor;\n",
    "import org.tribuo.data.columnar.processors.field.DoubleFieldProcessor;\n",
    "import org.tribuo.data.columnar.processors.response.EmptyResponseProcessor;\n",
    "import org.tribuo.data.csv.CSVDataSource;\n",
    "import org.tribuo.data.csv.CSVLoader;\n",
    "import org.tribuo.math.distance.DistanceType;\n",
    "import org.tribuo.math.neighbour.NeighboursQueryFactoryType;\n",
    "import org.tribuo.util.Util;"
   ]
  },
  {
   "cell_type": "code",
   "execution_count": 4,
   "metadata": {},
   "outputs": [],
   "source": [
    "ClusteringFactory clusteringFactory = new ClusteringFactory();\n",
    "ResponseProcessor<ClusterID> emptyResponseProcessor = new EmptyResponseProcessor<>(clusteringFactory);\n",
    "Map<String, FieldProcessor> regexMappingProcessors = new HashMap<>();\n",
    "regexMappingProcessors.put(\"Feature1\", new DoubleFieldProcessor(\"Feature1\"));\n",
    "regexMappingProcessors.put(\"Feature2\", new DoubleFieldProcessor(\"Feature2\"));\n",
    "regexMappingProcessors.put(\"Feature3\", new DoubleFieldProcessor(\"Feature3\"));\n",
    "regexMappingProcessors.put(\"Feature4\", new DoubleFieldProcessor(\"Feature4\"));\n",
    "\n",
    "RowProcessor<ClusterID> rowProcessor = new RowProcessor<>(emptyResponseProcessor, regexMappingProcessors);\n",
    "CSVDataSource<ClusterID> csvDataSource = new CSVDataSource<>(Paths.get(\"../../../data/big-gaussians-5centers-train.csv\"), rowProcessor, false);\n",
    "Dataset<ClusterID> dataset = new MutableDataset<>(csvDataSource);\n",
    "\n",
    "CSVDataSource<ClusterID> csvTestSource = new CSVDataSource<>(Paths.get(\"../../../data/big-gaussians-5centers-predict.csv\"),rowProcessor,false);\n",
    "Dataset<ClusterID> predictSet = new MutableDataset<>(csvTestSource);\n"
   ]
  },
  {
   "cell_type": "code",
   "execution_count": 5,
   "metadata": {},
   "outputs": [
    {
     "name": "stdout",
     "output_type": "stream",
     "text": [
      "Data size = 4000, number of features = 4\n",
      "Predict Data size = 1000, number of features = 4\n"
     ]
    }
   ],
   "source": [
    "System.out.println(String.format(\"Data size = %d, number of features = %d\",dataset.size(),dataset.getFeatureMap().size()));\n",
    "System.out.println(String.format(\"Predict Data size = %d, number of features = %d\",predictSet.size(),predictSet.getFeatureMap().size()));\n"
   ]
  },
  {
   "cell_type": "code",
   "execution_count": 6,
   "metadata": {},
   "outputs": [],
   "source": [
    "var trainer = new HdbscanTrainer(8, DistanceType.L2.getDistance(), 8, 2, NeighboursQueryFactoryType.KD_TREE);\n",
    "var model = trainer.train(dataset);"
   ]
  },
  {
   "cell_type": "code",
   "execution_count": 7,
   "metadata": {},
   "outputs": [
    {
     "name": "stdout",
     "output_type": "stream",
     "text": [
      "4000\n"
     ]
    }
   ],
   "source": [
    "System.out.println(model.getClusterLabels().size());"
   ]
  },
  {
   "cell_type": "code",
   "execution_count": 8,
   "metadata": {},
   "outputs": [],
   "source": [
    "// System.out.println(model.getClusterLabels());"
   ]
  },
  {
   "cell_type": "code",
   "execution_count": 9,
   "metadata": {},
   "outputs": [],
   "source": [
    "// System.out.println(model.getOutlierScores());"
   ]
  },
  {
   "cell_type": "code",
   "execution_count": null,
   "metadata": {},
   "outputs": [],
   "source": []
  },
  {
   "cell_type": "code",
   "execution_count": 10,
   "metadata": {},
   "outputs": [],
   "source": [
    "List<Prediction<ClusterID>> predictions = model.predict(predictSet);\n",
    "int i = 0;\n",
    "List<Integer> actualLabelPredictions = new ArrayList<>();\n",
    "for (Prediction<ClusterID> pred : predictions) {\n",
    "    actualLabelPredictions.add(pred.getOutput().getID());\n",
    "    i++;\n",
    "}"
   ]
  },
  {
   "cell_type": "code",
   "execution_count": 11,
   "metadata": {},
   "outputs": [
    {
     "name": "stdout",
     "output_type": "stream",
     "text": [
      "[8, 6, 6, 6, 3, 9, 5, 6, 6, 3, 3, 8, 5, 9, 5, 3, 3, 5, 5, 8, 8, 8, 3, 8, 8, 8, 3, 6, 6, 9, 3, 5, 6, 6, 6, 8, 8, 9, 5, 9, 9, 8, 5, 6, 8, 3, 6, 3, 3, 3, 9, 9, 5, 6, 3, 9, 9, 8, 8, 3, 3, 9, 6, 9, 9, 5, 3, 3, 6, 5, 3, 9, 8, 3, 6, 6, 9, 8, 8, 9, 6, 3, 8, 6, 9, 8, 6, 5, 8, 3, 3, 9, 8, 9, 6, 9, 6, 5, 5, 9, 5, 8, 8, 8, 8, 3, 6, 5, 3, 8, 9, 8, 6, 9, 6, 6, 9, 8, 9, 9, 5, 9, 6, 6, 6, 3, 6, 3, 5, 5, 6, 3, 9, 5, 6, 3, 8, 9, 9, 8, 9, 5, 8, 8, 3, 6, 3, 3, 8, 3, 8, 3, 5, 6, 6, 3, 5, 5, 5, 3, 8, 8, 8, 3, 3, 5, 9, 5, 9, 9, 9, 5, 5, 8, 3, 8, 3, 3, 9, 9, 6, 3, 8, 5, 9, 6, 9, 3, 5, 9, 6, 6, 6, 3, 8, 3, 9, 5, 5, 8, 8, 8, 9, 3, 6, 6, 9, 3, 9, 6, 9, 6, 9, 5, 8, 3, 8, 8, 8, 8, 8, 5, 5, 8, 9, 6, 8, 8, 3, 5, 6, 9, 8, 3, 3, 6, 6, 6, 6, 6, 6, 6, 8, 9, 6, 8, 9, 5, 9, 5, 8, 5, 8, 5, 6, 9, 9, 5, 9, 5, 6, 9, 9, 6, 8, 6, 6, 8, 3, 9, 3, 6, 6, 9, 6, 8, 6, 5, 5, 6, 8, 8, 6, 8, 9, 6, 5, 6, 8, 5, 9, 8, 5, 8, 9, 9, 5, 8, 3, 3, 9, 8, 6, 8, 6, 3, 8, 9, 5, 9, 9, 3, 8, 5, 8, 8, 9, 5, 9, 8, 8, 9, 6, 5, 5, 9, 9, 9, 5, 3, 6, 9, 3, 8, 6, 9, 8, 3, 6, 8, 8, 3, 6, 3, 5, 9, 8, 9, 5, 5, 3, 6, 9, 8, 5, 6, 9, 3, 9, 8, 8, 9, 8, 6, 6, 8, 5, 5, 6, 5, 8, 6, 3, 3, 9, 8, 8, 5, 6, 5, 6, 5, 6, 3, 5, 9, 9, 6, 6, 3, 5, 6, 9, 5, 6, 8, 6, 6, 9, 5, 8, 8, 9, 3, 3, 5, 3, 3, 9, 8, 5, 8, 9, 6, 3, 6, 9, 5, 6, 5, 9, 3, 3, 5, 5, 8, 8, 5, 5, 9, 8, 9, 6, 3, 3, 8, 8, 3, 9, 8, 3, 8, 3, 8, 3, 3, 6, 9, 5, 5, 3, 9, 6, 9, 8, 9, 6, 8, 8, 5, 6, 5, 5, 3, 5, 6, 8, 8, 9, 9, 3, 6, 3, 9, 6, 8, 5, 8, 3, 6, 3, 5, 3, 9, 3, 3, 5, 5, 9, 5, 6, 9, 9, 3, 8, 9, 8, 5, 6, 5, 3, 9, 8, 3, 9, 3, 6, 8, 5, 5, 9, 5, 6, 8, 9, 8, 6, 9, 5, 6, 6, 9, 8, 3, 5, 5, 3, 5, 6, 9, 9, 9, 9, 6, 5, 8, 9, 5, 6, 6, 9, 9, 3, 8, 5, 8, 9, 3, 5, 5, 3, 3, 3, 8, 8, 6, 9, 5, 6, 8, 9, 3, 3, 6, 8, 8, 5, 6, 3, 9, 6, 3, 9, 9, 9, 9, 3, 3, 5, 8, 9, 5, 5, 6, 3, 6, 5, 9, 3, 5, 5, 5, 8, 9, 8, 5, 8, 8, 3, 8, 5, 9, 3, 3, 3, 8, 9, 3, 6, 9, 5, 8, 9, 5, 5, 6, 6, 8, 3, 9, 6, 5, 5, 5, 9, 8, 8, 5, 3, 3, 5, 9, 3, 6, 6, 3, 9, 6, 6, 9, 3, 9, 5, 5, 6, 5, 3, 8, 3, 6, 9, 6, 9, 6, 8, 8, 5, 5, 8, 6, 9, 9, 9, 8, 3, 6, 6, 9, 5, 8, 5, 5, 9, 9, 8, 5, 8, 5, 5, 8, 6, 3, 5, 8, 6, 6, 3, 9, 3, 5, 6, 6, 9, 5, 5, 6, 5, 3, 5, 9, 6, 3, 5, 5, 6, 5, 8, 6, 8, 5, 3, 3, 5, 6, 5, 6, 8, 3, 8, 9, 9, 9, 8, 9, 9, 5, 8, 8, 6, 3, 3, 3, 5, 9, 5, 3, 6, 5, 6, 9, 5, 9, 6, 6, 9, 9, 3, 3, 3, 8, 5, 8, 3, 8, 5, 5, 5, 6, 3, 9, 9, 3, 9, 3, 6, 9, 3, 8, 3, 6, 8, 3, 5, 6, 3, 8, 9, 3, 5, 9, 6, 8, 5, 5, 3, 9, 8, 6, 3, 9, 9, 6, 5, 8, 8, 9, 6, 3, 5, 6, 8, 9, 8, 3, 9, 6, 3, 9, 8, 9, 6, 9, 5, 8, 3, 9, 8, 8, 3, 9, 8, 6, 8, 5, 9, 8, 5, 3, 6, 9, 6, 5, 3, 6, 6, 6, 9, 3, 5, 5, 3, 3, 8, 8, 3, 5, 8, 9, 6, 3, 8, 3, 8, 5, 3, 8, 8, 3, 5, 6, 8, 3, 5, 6, 3, 6, 6, 6, 8, 3, 6, 6, 8, 3, 8, 8, 3, 8, 3, 3, 5, 6, 9, 5, 9, 3, 3, 9, 9, 8, 3, 8, 3, 5, 5, 9, 6, 8, 6, 8, 3, 3, 8, 9, 6, 3, 3, 5, 8, 5, 3, 5, 8, 5, 3, 3, 8, 8, 3, 8, 6, 9, 9, 6, 9, 8, 3, 5, 5, 8, 3, 8, 9, 6, 3, 9, 9, 9, 3, 3, 5, 5, 5, 3, 3, 6, 8, 3, 3, 5, 8, 3, 8, 5, 6, 5, 6, 5, 9, 9, 6, 3, 6, 8, 3, 8, 5, 3, 3, 3, 3, 9, 3, 8, 8, 8, 5, 6, 5, 3, 6, 9, 6, 5, 5, 6, 9, 6, 3, 3, 8, 9, 9, 3, 3, 6, 6, 9, 8, 5]\n"
     ]
    }
   ],
   "source": [
    "System.out.println(actualLabelPredictions)"
   ]
  },
  {
   "cell_type": "code",
   "execution_count": null,
   "metadata": {},
   "outputs": [],
   "source": []
  }
 ],
 "metadata": {
  "kernelspec": {
   "display_name": "Java",
   "language": "java",
   "name": "java"
  },
  "language_info": {
   "codemirror_mode": "java",
   "file_extension": ".jshell",
   "mimetype": "text/x-java-source",
   "name": "Java",
   "pygments_lexer": "java",
   "version": "11.0.12+8-LTS-237"
  }
 },
 "nbformat": 4,
 "nbformat_minor": 4
}
