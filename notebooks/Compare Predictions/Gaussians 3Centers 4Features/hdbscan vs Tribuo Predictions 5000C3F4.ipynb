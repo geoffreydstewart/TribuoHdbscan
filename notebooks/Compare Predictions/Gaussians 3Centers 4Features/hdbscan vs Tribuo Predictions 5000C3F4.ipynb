{
 "cells": [
  {
   "cell_type": "markdown",
   "metadata": {},
   "source": [
    "## This notebook compares the predictions from the Python hdbscan module to the Tribuo HDBSCAN* java implementation using the dataset: 5000 records, 3 centers, 4 features"
   ]
  },
  {
   "cell_type": "code",
   "execution_count": 1,
   "metadata": {},
   "outputs": [],
   "source": [
    "import numpy as np\n",
    "import pandas as pd\n",
    "from sklearn.metrics import adjusted_mutual_info_score\n",
    "from sklearn.metrics import normalized_mutual_info_score\n",
    "import hdbscan"
   ]
  },
  {
   "cell_type": "code",
   "execution_count": 2,
   "metadata": {},
   "outputs": [],
   "source": [
    "df_train = pd.read_csv('../../../data/big-gaussians-3centers-train.csv')\n",
    "df_predict = pd.read_csv('../../../data/big-gaussians-3centers-predict.csv')"
   ]
  },
  {
   "cell_type": "code",
   "execution_count": 3,
   "metadata": {},
   "outputs": [
    {
     "name": "stdout",
     "output_type": "stream",
     "text": [
      "(4000, 4)\n",
      "(1000, 4)\n"
     ]
    }
   ],
   "source": [
    "print(df_train.shape)\n",
    "print(df_predict.shape)"
   ]
  },
  {
   "cell_type": "code",
   "execution_count": 5,
   "metadata": {},
   "outputs": [],
   "source": []
  },
  {
   "cell_type": "code",
   "execution_count": 4,
   "metadata": {},
   "outputs": [],
   "source": [
    "clusterer = hdbscan.HDBSCAN(min_cluster_size=8, prediction_data=True).fit(df_train)"
   ]
  },
  {
   "cell_type": "code",
   "execution_count": 5,
   "metadata": {},
   "outputs": [],
   "source": [
    "# print(clusterer.labels_)"
   ]
  },
  {
   "cell_type": "code",
   "execution_count": 7,
   "metadata": {},
   "outputs": [],
   "source": [
    "hdbscan_predict_labels, strengths = hdbscan.approximate_predict(clusterer, df_predict)"
   ]
  },
  {
   "cell_type": "code",
   "execution_count": 10,
   "metadata": {},
   "outputs": [],
   "source": [
    "hdbscan_predict_label_list = hdbscan_predict_labels.tolist()\n",
    "# print(hdbscan_predict_label_list)"
   ]
  },
  {
   "cell_type": "code",
   "execution_count": null,
   "metadata": {},
   "outputs": [],
   "source": []
  },
  {
   "cell_type": "code",
   "execution_count": 11,
   "metadata": {},
   "outputs": [],
   "source": [
    "# check the mutual information between results\n",
    "def evaluate(result1, result2):\n",
    "    print('Result Evaluation')\n",
    "    print('Normalized MI = %.2f' % normalized_mutual_info_score(result1, result2))\n",
    "    print('Adjusted MI = %.2f' % adjusted_mutual_info_score(result1, result2))"
   ]
  },
  {
   "cell_type": "code",
   "execution_count": null,
   "metadata": {},
   "outputs": [],
   "source": []
  },
  {
   "cell_type": "code",
   "execution_count": 12,
   "metadata": {},
   "outputs": [],
   "source": [
    "# these are the cluster assignments from the gaussians - declared in notebook: scikit-learn Gaussians5000C3F4 Data Setup\n",
    "actual_labels_predict = [1, 2, 2, 2, 0, 0, 0, 2, 0, 0, 0, 2, 1, 1, 0, 2, 2, 1, 1, 1, 0, 0, 1, 2, 0, 0, 0, 2, 1, 0, 1, 1, 2, 1, 2, 0, 0, 2, 1, 1, 0, 0, 0, 0, 2, 2, 1, 1, 0, 0, 2, 2, 2, 1, 2, 2, 0, 0, 1, 1, 1, 1, 0, 0, 0, 1, 2, 0, 1, 1, 0, 1, 2, 0, 2, 1, 1, 0, 0, 1, 0, 1, 0, 2, 2, 0, 2, 0, 1, 2, 0, 0, 0, 1, 2, 2, 0, 0, 0, 2, 1, 2, 2, 0, 0, 0, 1, 0, 1, 1, 0, 0, 0, 0, 2, 0, 1, 1, 1, 1, 1, 2, 2, 2, 1, 2, 0, 2, 1, 1, 0, 1, 0, 0, 0, 2, 0, 0, 1, 1, 2, 1, 0, 2, 0, 2, 2, 1, 1, 1, 2, 2, 2, 2, 0, 0, 0, 1, 2, 2, 0, 2, 0, 0, 1, 2, 2, 0, 1, 0, 2, 1, 1, 0, 1, 1, 0, 2, 0, 1, 0, 1, 2, 0, 1, 1, 1, 2, 0, 2, 0, 2, 2, 0, 0, 0, 1, 2, 1, 1, 0, 1, 1, 1, 0, 1, 0, 2, 0, 2, 0, 0, 0, 0, 0, 2, 2, 0, 0, 1, 0, 0, 2, 2, 1, 0, 0, 1, 2, 1, 1, 1, 1, 1, 1, 1, 0, 0, 1, 0, 0, 2, 0, 2, 0, 2, 0, 2, 1, 0, 0, 2, 0, 2, 1, 1, 1, 1, 0, 1, 1, 0, 2, 0, 2, 1, 1, 1, 1, 0, 1, 2, 2, 1, 0, 0, 1, 0, 0, 1, 2, 1, 0, 2, 0, 0, 2, 0, 0, 0, 2, 0, 2, 2, 0, 0, 1, 0, 1, 1, 0, 0, 2, 0, 1, 2, 0, 2, 0, 0, 0, 2, 0, 0, 0, 1, 1, 2, 2, 0, 0, 0, 2, 2, 1, 0, 1, 0, 1, 0, 0, 2, 1, 0, 0, 2, 1, 2, 2, 0, 0, 1, 2, 2, 2, 1, 0, 0, 2, 1, 0, 2, 0, 0, 0, 0, 0, 1, 1, 0, 2, 2, 1, 2, 0, 1, 2, 1, 0, 0, 0, 2, 1, 2, 1, 2, 1, 2, 2, 1, 0, 1, 1, 1, 2, 1, 1, 2, 1, 0, 1, 1, 0, 2, 0, 0, 0, 2, 1, 2, 2, 2, 0, 0, 2, 0, 0, 1, 1, 1, 1, 2, 1, 2, 1, 2, 2, 2, 2, 0, 0, 2, 2, 0, 0, 1, 1, 1, 2, 0, 0, 2, 0, 0, 2, 0, 2, 0, 1, 2, 1, 0, 2, 2, 2, 1, 1, 0, 0, 1, 1, 0, 0, 2, 1, 2, 2, 2, 2, 1, 0, 0, 0, 1, 2, 1, 2, 0, 1, 0, 2, 0, 1, 1, 1, 2, 1, 0, 2, 2, 2, 0, 2, 1, 0, 1, 2, 0, 1, 0, 2, 1, 2, 2, 0, 0, 2, 0, 1, 1, 0, 2, 2, 1, 2, 1, 0, 1, 0, 1, 0, 2, 1, 1, 1, 0, 2, 2, 2, 1, 2, 1, 0, 0, 0, 0, 1, 2, 0, 1, 2, 1, 1, 0, 0, 2, 0, 2, 0, 0, 2, 2, 2, 2, 2, 1, 0, 0, 1, 0, 2, 1, 0, 0, 1, 1, 1, 0, 0, 2, 1, 2, 1, 1, 1, 0, 0, 1, 0, 2, 2, 2, 0, 0, 2, 2, 1, 2, 1, 2, 0, 2, 2, 2, 2, 0, 0, 0, 2, 0, 0, 2, 0, 2, 0, 2, 1, 1, 0, 1, 2, 1, 0, 2, 0, 0, 2, 2, 1, 1, 0, 1, 0, 1, 2, 2, 2, 0, 0, 0, 2, 2, 2, 2, 0, 2, 1, 1, 2, 0, 1, 2, 0, 2, 0, 2, 2, 1, 2, 2, 0, 2, 1, 1, 1, 0, 1, 0, 0, 2, 2, 0, 1, 0, 0, 0, 0, 2, 1, 1, 0, 2, 0, 2, 2, 1, 0, 0, 2, 0, 2, 2, 0, 1, 2, 2, 0, 1, 1, 2, 1, 2, 2, 1, 1, 0, 2, 2, 1, 2, 1, 2, 1, 1, 2, 2, 2, 1, 2, 0, 1, 0, 2, 1, 1, 2, 1, 2, 1, 0, 2, 0, 0, 0, 0, 0, 0, 0, 2, 0, 0, 1, 2, 2, 2, 2, 2, 2, 2, 1, 2, 1, 1, 2, 0, 1, 1, 0, 0, 2, 1, 2, 0, 2, 0, 2, 0, 2, 2, 2, 1, 2, 0, 0, 2, 1, 2, 1, 0, 2, 0, 2, 1, 0, 1, 2, 1, 1, 0, 0, 2, 2, 0, 1, 0, 2, 2, 2, 1, 0, 1, 2, 1, 0, 1, 2, 0, 0, 1, 1, 2, 2, 1, 0, 0, 0, 2, 0, 1, 1, 0, 0, 0, 1, 1, 2, 0, 2, 1, 0, 0, 2, 1, 0, 1, 0, 2, 0, 0, 2, 1, 1, 0, 1, 2, 2, 1, 1, 1, 0, 2, 2, 2, 2, 1, 0, 0, 2, 2, 0, 1, 1, 2, 0, 2, 0, 2, 2, 0, 0, 1, 2, 1, 0, 2, 2, 1, 2, 1, 1, 1, 0, 1, 1, 1, 0, 2, 0, 0, 2, 0, 1, 2, 2, 1, 0, 2, 1, 2, 1, 0, 0, 0, 2, 0, 1, 2, 2, 0, 1, 0, 1, 0, 1, 1, 0, 0, 1, 2, 1, 2, 0, 2, 2, 2, 0, 2, 2, 2, 0, 0, 1, 0, 1, 1, 1, 1, 0, 0, 2, 2, 2, 0, 2, 0, 0, 1, 2, 0, 0, 0, 2, 2, 2, 2, 2, 2, 2, 1, 0, 1, 2, 2, 0, 2, 0, 2, 1, 2, 1, 2, 0, 0, 1, 1, 1, 0, 2, 0, 2, 2, 2, 2, 2, 1, 2, 0, 0, 0, 2, 1, 2, 1, 1, 0, 1, 2, 2, 1, 0, 1, 2, 1, 0, 1, 1, 2, 2, 1, 1, 0, 0, 2, 2, 1, 2, 0, 2, 1, 1]\n"
   ]
  },
  {
   "cell_type": "code",
   "execution_count": null,
   "metadata": {},
   "outputs": [],
   "source": []
  },
  {
   "cell_type": "code",
   "execution_count": 14,
   "metadata": {},
   "outputs": [
    {
     "name": "stdout",
     "output_type": "stream",
     "text": [
      "Result Evaluation\n",
      "Normalized MI = 1.00\n",
      "Adjusted MI = 1.00\n"
     ]
    }
   ],
   "source": [
    "# evaluate the hdbscan prediction labels\n",
    "evaluate(hdbscan_predict_label_list, actual_labels_predict)"
   ]
  },
  {
   "cell_type": "code",
   "execution_count": null,
   "metadata": {},
   "outputs": [],
   "source": []
  },
  {
   "cell_type": "code",
   "execution_count": 18,
   "metadata": {},
   "outputs": [],
   "source": [
    "# these are the labels from the notebook: Tribuo Predictions 5000C3F4\n",
    "tribuo_predict_label_list = [4, 2, 2, 2, 5, 5, 5, 2, 5, 5, 5, 2, 4, 4, 5, 2, 2, 4, 4, 4, 5, 5, 4, 2, 5, 5, 5, 2, 4, 5, 4, 4, 2, 4, 2, 5, 5, 2, 4, 4, 5, 5, 5, 5, 2, 2, 4, 4, 5, 5, 2, 2, 2, 4, 2, 2, 5, 5, 4, 4, 4, 4, 5, 5, 5, 4, 2, 5, 4, 4, 5, 4, 2, 5, 2, 4, 4, 5, 5, 4, 5, 4, 5, 2, 2, 5, 2, 5, 4, 2, 5, 5, 5, 4, 2, 2, 5, 5, 5, 2, 4, 2, 2, 5, 5, 5, 4, 5, 4, 4, 5, 5, 5, 5, 2, 5, 4, 4, 4, 4, 4, 2, 2, 2, 4, 2, 5, 2, 4, 4, 5, 4, 5, 5, 5, 2, 5, 5, 4, 4, 2, 4, 5, 2, 5, 2, 2, 4, 4, 4, 2, 2, 2, 2, 5, 5, 5, 4, 2, 2, 5, 2, 5, 5, 4, 2, 2, 5, 4, 5, 2, 4, 4, 5, 4, 4, 5, 2, 5, 4, 5, 4, 2, 5, 4, 4, 4, 2, 5, 2, 5, 2, 2, 5, 5, 5, 4, 2, 4, 4, 5, 4, 4, 4, 5, 4, 5, 2, 5, 2, 5, 5, 5, 5, 5, 2, 2, 5, 5, 4, 5, 5, 2, 2, 4, 5, 5, 4, 2, 4, 4, 4, 4, 4, 4, 4, 5, 5, 4, 5, 5, 2, 5, 2, 5, 2, 5, 2, 4, 5, 5, 2, 5, 2, 4, 4, 4, 4, 5, 4, 4, 5, 2, 5, 2, 4, 4, 4, 4, 5, 4, 2, 2, 4, 5, 5, 4, 5, 5, 4, 2, 4, 5, 2, 5, 5, 2, 5, 5, 5, 2, 5, 2, 2, 5, 5, 4, 5, 4, 4, 5, 5, 2, 5, 4, 2, 5, 2, 5, 5, 5, 2, 5, 5, 5, 4, 4, 2, 2, 5, 5, 5, 2, 2, 4, 5, 4, 5, 4, 5, 5, 2, 4, 5, 5, 2, 4, 2, 2, 5, 5, 4, 2, 2, 2, 4, 5, 5, 2, 4, 5, 2, 5, 5, 5, 5, 5, 4, 4, 5, 2, 2, 4, 2, 5, 4, 2, 4, 5, 5, 5, 2, 4, 2, 4, 2, 4, 2, 2, 4, 5, 4, 4, 4, 2, 4, 4, 2, 4, 5, 4, 4, 5, 2, 5, 5, 5, 2, 4, 2, 2, 2, 5, 5, 2, 5, 5, 4, 4, 4, 4, 2, 4, 2, 4, 2, 2, 2, 2, 5, 5, 2, 2, 5, 5, 4, 4, 4, 2, 5, 5, 2, 5, 5, 2, 5, 2, 5, 4, 2, 4, 5, 2, 2, 2, 4, 4, 5, 5, 4, 4, 5, 5, 2, 4, 2, 2, 2, 2, 4, 5, 5, 5, 4, 2, 4, 2, 5, 4, 5, 2, 5, 4, 4, 4, 2, 4, 5, 2, 2, 2, 5, 2, 4, 5, 4, 2, 5, 4, 5, 2, 4, 2, 2, 5, 5, 2, 5, 4, 4, 5, 2, 2, 4, 2, 4, 5, 4, 5, 4, 5, 2, 4, 4, 4, 5, 2, 2, 2, 4, 2, 4, 5, 5, 5, 5, 4, 2, 5, 4, 2, 4, 4, 5, 5, 2, 5, 2, 5, 5, 2, 2, 2, 2, 2, 4, 5, 5, 4, 5, 2, 4, 5, 5, 4, 4, 4, 5, 5, 2, 4, 2, 4, 4, 4, 5, 5, 4, 5, 2, 2, 2, 5, 5, 2, 2, 4, 2, 4, 2, 5, 2, 2, 2, 2, 5, 5, 5, 2, 5, 5, 2, 5, 2, 5, 2, 4, 4, 5, 4, 2, 4, 5, 2, 5, 5, 2, 2, 4, 4, 5, 4, 5, 4, 2, 2, 2, 5, 5, 5, 2, 2, 2, 2, 5, 2, 4, 4, 2, 5, 4, 2, 5, 2, 5, 2, 2, 4, 2, 2, 5, 2, 4, 4, 4, 5, 4, 5, 5, 2, 2, 5, 4, 5, 5, 5, 5, 2, 4, 4, 5, 2, 5, 2, 2, 4, 5, 5, 2, 5, 2, 2, 5, 4, 2, 2, 5, 4, 4, 2, 4, 2, 2, 4, 4, 5, 2, 2, 4, 2, 4, 2, 4, 4, 2, 2, 2, 4, 2, 5, 4, 5, 2, 4, 4, 2, 4, 2, 4, 5, 2, 5, 5, 5, 5, 5, 5, 5, 2, 5, 5, 4, 2, 2, 2, 2, 2, 2, 2, 4, 2, 4, 4, 2, 5, 4, 4, 5, 5, 2, 4, 2, 5, 2, 5, 2, 5, 2, 2, 2, 4, 2, 5, 5, 2, 4, 2, 4, 5, 2, 5, 2, 4, 5, 4, 2, 4, 4, 5, 5, 2, 2, 5, 4, 5, 2, 2, 2, 4, 5, 4, 2, 4, 5, 4, 2, 5, 5, 4, 4, 2, 2, 4, 5, 5, 5, 2, 5, 4, 4, 5, 5, 5, 4, 4, 2, 5, 2, 4, 5, 5, 2, 4, 5, 4, 5, 2, 5, 5, 2, 4, 4, 5, 4, 2, 2, 4, 4, 4, 5, 2, 2, 2, 2, 4, 5, 5, 2, 2, 5, 4, 4, 2, 5, 2, 5, 2, 2, 5, 5, 4, 2, 4, 5, 2, 2, 4, 2, 4, 4, 4, 5, 4, 4, 4, 5, 2, 5, 5, 2, 5, 4, 2, 2, 4, 5, 2, 4, 2, 4, 5, 5, 5, 2, 5, 4, 2, 2, 5, 4, 5, 4, 5, 4, 4, 5, 5, 4, 2, 4, 2, 5, 2, 2, 2, 5, 2, 2, 2, 5, 5, 4, 5, 4, 4, 4, 4, 5, 5, 2, 2, 2, 5, 2, 5, 5, 4, 2, 5, 5, 5, 2, 2, 2, 2, 2, 2, 2, 4, 5, 4, 2, 2, 5, 2, 5, 2, 4, 2, 4, 2, 5, 5, 4, 4, 4, 5, 2, 5, 2, 2, 2, 2, 2, 4, 2, 5, 5, 5, 2, 4, 2, 4, 4, 5, 4, 2, 2, 4, 5, 4, 2, 4, 5, 4, 4, 2, 2, 4, 4, 5, 5, 2, 2, 4, 2, 5, 2, 4, 4]\n"
   ]
  },
  {
   "cell_type": "code",
   "execution_count": 19,
   "metadata": {},
   "outputs": [
    {
     "name": "stdout",
     "output_type": "stream",
     "text": [
      "Result Evaluation\n",
      "Normalized MI = 1.00\n",
      "Adjusted MI = 1.00\n"
     ]
    }
   ],
   "source": [
    "# evaluate the Tribuo prediction labels\n",
    "evaluate(tribuo_predict_label_list, actual_labels_predict)"
   ]
  },
  {
   "cell_type": "code",
   "execution_count": null,
   "metadata": {},
   "outputs": [],
   "source": []
  },
  {
   "cell_type": "code",
   "execution_count": 20,
   "metadata": {},
   "outputs": [
    {
     "name": "stdout",
     "output_type": "stream",
     "text": [
      "Result Evaluation\n",
      "Normalized MI = 1.00\n",
      "Adjusted MI = 1.00\n"
     ]
    }
   ],
   "source": [
    "# check the MI between the prediction labels from hdbscan model and the tribuo model\n",
    "evaluate(hdbscan_predict_label_list, tribuo_predict_label_list)"
   ]
  },
  {
   "cell_type": "code",
   "execution_count": null,
   "metadata": {},
   "outputs": [],
   "source": []
  }
 ],
 "metadata": {
  "kernelspec": {
   "display_name": "Python 3",
   "language": "python",
   "name": "python3"
  },
  "language_info": {
   "codemirror_mode": {
    "name": "ipython",
    "version": 3
   },
   "file_extension": ".py",
   "mimetype": "text/x-python",
   "name": "python",
   "nbconvert_exporter": "python",
   "pygments_lexer": "ipython3",
   "version": "3.9.1"
  }
 },
 "nbformat": 4,
 "nbformat_minor": 4
}
