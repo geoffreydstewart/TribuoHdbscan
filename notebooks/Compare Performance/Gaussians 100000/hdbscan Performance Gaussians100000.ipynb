{
 "cells": [
  {
   "cell_type": "markdown",
   "metadata": {},
   "source": [
    "## This notebook measures Python hdbscan performance with the Gaussian 100000 data"
   ]
  },
  {
   "cell_type": "code",
   "execution_count": 1,
   "metadata": {},
   "outputs": [],
   "source": [
    "import numpy as np\n",
    "import pandas as pd\n",
    "from sklearn.metrics import adjusted_mutual_info_score\n",
    "from sklearn.metrics import normalized_mutual_info_score\n",
    "import hdbscan"
   ]
  },
  {
   "cell_type": "code",
   "execution_count": 2,
   "metadata": {},
   "outputs": [],
   "source": [
    "# same as /Users/gstewart/temp/development/mscs/cpsc69700/RefImpl/HDBSCAN_Star/xtrabig-gaussians-6centers.csv but with headers\n",
    "df = pd.read_csv('../../../data/xtrabig-gaussians-6centers.csv')\n"
   ]
  },
  {
   "cell_type": "code",
   "execution_count": 3,
   "metadata": {},
   "outputs": [
    {
     "name": "stdout",
     "output_type": "stream",
     "text": [
      "(100000, 7)\n"
     ]
    }
   ],
   "source": [
    "print(df.shape)"
   ]
  },
  {
   "cell_type": "code",
   "execution_count": 4,
   "metadata": {},
   "outputs": [
    {
     "name": "stdout",
     "output_type": "stream",
     "text": [
      "CPU times: user 16.8 s, sys: 274 ms, total: 17.1 s\n",
      "Wall time: 29.1 s\n"
     ]
    }
   ],
   "source": [
    "%time clusterer = hdbscan.HDBSCAN(min_cluster_size=10, prediction_data=True).fit(df)\n",
    "# run 1\n",
    "# time: 30.5s\n",
    "\n",
    "# run 2\n",
    "# time: 26.9s\n",
    "\n",
    "# run 3\n",
    "# time: 29.1s"
   ]
  },
  {
   "cell_type": "code",
   "execution_count": 5,
   "metadata": {},
   "outputs": [
    {
     "name": "stdout",
     "output_type": "stream",
     "text": [
      "100000\n"
     ]
    }
   ],
   "source": [
    "hdbscan_label_list = clusterer.labels_.tolist()\n",
    "print(len(hdbscan_label_list ))"
   ]
  },
  {
   "cell_type": "code",
   "execution_count": null,
   "metadata": {},
   "outputs": [],
   "source": []
  }
 ],
 "metadata": {
  "kernelspec": {
   "display_name": "Python 3",
   "language": "python",
   "name": "python3"
  },
  "language_info": {
   "codemirror_mode": {
    "name": "ipython",
    "version": 3
   },
   "file_extension": ".py",
   "mimetype": "text/x-python",
   "name": "python",
   "nbconvert_exporter": "python",
   "pygments_lexer": "ipython3",
   "version": "3.9.1"
  }
 },
 "nbformat": 4,
 "nbformat_minor": 4
}
