{
 "cells": [
  {
   "cell_type": "markdown",
   "metadata": {},
   "source": [
    "## This notebook measures Tribuo Hdbscan performance with the Gaussian 100000 data"
   ]
  },
  {
   "cell_type": "code",
   "execution_count": 1,
   "metadata": {},
   "outputs": [],
   "source": [
    "%jars ../../../jars/junit-jupiter-api-5.7.0.jar\n",
    "%jars ../../../jars/opentest4j-1.2.0.jar\n",
    "%jars ../../../jars/junit-platform-commons-1.7.1.jar\n",
    "%jars ../../../jars/tribuo-clustering-hdbscan-4.3.0-jar-with-dependencies.jar"
   ]
  },
  {
   "cell_type": "code",
   "execution_count": 2,
   "metadata": {},
   "outputs": [],
   "source": [
    "import java.nio.file.Paths;\n",
    "import java.util.*;\n",
    "import java.util.stream.Collectors;\n",
    "import static org.junit.jupiter.api.Assertions.*;"
   ]
  },
  {
   "cell_type": "code",
   "execution_count": 3,
   "metadata": {},
   "outputs": [],
   "source": [
    "import org.tribuo.Dataset;\n",
    "import org.tribuo.Feature;\n",
    "import org.tribuo.MutableDataset;\n",
    "import org.tribuo.Prediction;\n",
    "import org.tribuo.clustering.ClusterID;\n",
    "import org.tribuo.clustering.ClusteringFactory;\n",
    "import org.tribuo.clustering.hdbscan.HdbscanModel;\n",
    "import org.tribuo.clustering.hdbscan.HdbscanTrainer;\n",
    "import org.tribuo.data.columnar.FieldProcessor;\n",
    "import org.tribuo.data.columnar.ResponseProcessor;\n",
    "import org.tribuo.data.columnar.RowProcessor;\n",
    "import org.tribuo.data.columnar.processors.field.DoubleFieldProcessor;\n",
    "import org.tribuo.data.columnar.processors.response.EmptyResponseProcessor;\n",
    "import org.tribuo.data.csv.CSVDataSource;\n",
    "import org.tribuo.data.csv.CSVLoader;\n",
    "import org.tribuo.math.distance.DistanceType;\n",
    "import org.tribuo.math.neighbour.NeighboursQueryFactoryType;\n",
    "import org.tribuo.util.Util;"
   ]
  },
  {
   "cell_type": "code",
   "execution_count": 4,
   "metadata": {},
   "outputs": [],
   "source": [
    "ClusteringFactory clusteringFactory = new ClusteringFactory();\n",
    "ResponseProcessor<ClusterID> emptyResponseProcessor = new EmptyResponseProcessor<>(clusteringFactory);\n",
    "Map<String, FieldProcessor> regexMappingProcessors = new HashMap<>();\n",
    "regexMappingProcessors.put(\"Feature1\", new DoubleFieldProcessor(\"Feature1\"));\n",
    "regexMappingProcessors.put(\"Feature2\", new DoubleFieldProcessor(\"Feature2\"));\n",
    "regexMappingProcessors.put(\"Feature3\", new DoubleFieldProcessor(\"Feature3\"));\n",
    "regexMappingProcessors.put(\"Feature4\", new DoubleFieldProcessor(\"Feature4\"));\n",
    "regexMappingProcessors.put(\"Feature5\", new DoubleFieldProcessor(\"Feature5\"));\n",
    "regexMappingProcessors.put(\"Feature6\", new DoubleFieldProcessor(\"Feature6\"));\n",
    "regexMappingProcessors.put(\"Feature7\", new DoubleFieldProcessor(\"Feature7\"));\n",
    "\n",
    "RowProcessor<ClusterID> rowProcessor = new RowProcessor<>(emptyResponseProcessor, regexMappingProcessors);\n",
    "CSVDataSource<ClusterID> csvDataSource = new CSVDataSource<>(Paths.get(\"../../../data/xtrabig-gaussians-6centers.csv\"), rowProcessor, false);\n",
    "Dataset<ClusterID> dataset = new MutableDataset<>(csvDataSource);"
   ]
  },
  {
   "cell_type": "code",
   "execution_count": 5,
   "metadata": {},
   "outputs": [
    {
     "name": "stdout",
     "output_type": "stream",
     "text": [
      "Data size = 100000, number of features = 7\n"
     ]
    }
   ],
   "source": [
    "System.out.println(String.format(\"Data size = %d, number of features = %d\",dataset.size(),dataset.getFeatureMap().size()));\n"
   ]
  },
  {
   "cell_type": "code",
   "execution_count": 6,
   "metadata": {},
   "outputs": [
    {
     "name": "stdout",
     "output_type": "stream",
     "text": [
      "Training took (00:05:46:366)\n"
     ]
    }
   ],
   "source": [
    "var trainer = new HdbscanTrainer(10, DistanceType.L2.getDistance(), 10, 8, NeighboursQueryFactoryType.BRUTE_FORCE);\n",
    "var startTime = System.currentTimeMillis();\n",
    "var model = trainer.train(dataset);\n",
    "var endTime = System.currentTimeMillis();\n",
    "System.out.println(\"Training took \" + Util.formatDuration(startTime,endTime));\n",
    "\n",
    "// run 1\n",
    "// time 315.6s\n",
    "\n",
    "// run 2\n",
    "// time 307.2s\n",
    "\n",
    "// run 3\n",
    "// time 301.5s"
   ]
  },
  {
   "cell_type": "code",
   "execution_count": 7,
   "metadata": {},
   "outputs": [
    {
     "name": "stdout",
     "output_type": "stream",
     "text": [
      "100000\n"
     ]
    }
   ],
   "source": [
    "System.out.println(model.getClusterLabels().size());"
   ]
  },
  {
   "cell_type": "code",
   "execution_count": null,
   "metadata": {},
   "outputs": [],
   "source": []
  }
 ],
 "metadata": {
  "kernelspec": {
   "display_name": "Java",
   "language": "java",
   "name": "java"
  },
  "language_info": {
   "codemirror_mode": "java",
   "file_extension": ".jshell",
   "mimetype": "text/x-java-source",
   "name": "Java",
   "pygments_lexer": "java",
   "version": "11.0.12+8-LTS-237"
  }
 },
 "nbformat": 4,
 "nbformat_minor": 4
}
