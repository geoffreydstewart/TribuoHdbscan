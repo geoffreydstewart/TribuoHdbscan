{
 "cells": [
  {
   "cell_type": "markdown",
   "metadata": {},
   "source": [
    "## This notebook measures Tribuo Hdbscan Prediction performance with the Gaussian 50000 data"
   ]
  },
  {
   "cell_type": "code",
   "execution_count": 1,
   "metadata": {},
   "outputs": [],
   "source": [
    "%jars ../../../jars/junit-jupiter-api-5.7.0.jar\n",
    "%jars ../../../jars/opentest4j-1.2.0.jar\n",
    "%jars ../../../jars/junit-platform-commons-1.7.1.jar\n",
    "%jars ../../../jars/tribuo-clustering-hdbscan-4.2.0-SNAPSHOT-jar-with-dependencies.jar"
   ]
  },
  {
   "cell_type": "code",
   "execution_count": 2,
   "metadata": {},
   "outputs": [],
   "source": [
    "import java.nio.file.Paths;\n",
    "import java.util.*;\n",
    "import java.util.stream.Collectors;\n",
    "import static org.junit.jupiter.api.Assertions.*;"
   ]
  },
  {
   "cell_type": "code",
   "execution_count": 3,
   "metadata": {},
   "outputs": [],
   "source": [
    "import org.tribuo.Dataset;\n",
    "import org.tribuo.Feature;\n",
    "import org.tribuo.MutableDataset;\n",
    "import org.tribuo.Prediction;\n",
    "import org.tribuo.clustering.ClusterID;\n",
    "import org.tribuo.clustering.ClusteringFactory;\n",
    "import org.tribuo.clustering.hdbscan.HdbscanModel;\n",
    "import org.tribuo.clustering.hdbscan.HdbscanTrainer;\n",
    "import org.tribuo.data.columnar.FieldProcessor;\n",
    "import org.tribuo.data.columnar.ResponseProcessor;\n",
    "import org.tribuo.data.columnar.RowProcessor;\n",
    "import org.tribuo.data.columnar.processors.field.DoubleFieldProcessor;\n",
    "import org.tribuo.data.columnar.processors.response.EmptyResponseProcessor;\n",
    "import org.tribuo.data.csv.CSVDataSource;\n",
    "import org.tribuo.data.csv.CSVLoader;\n",
    "import org.tribuo.util.Util;"
   ]
  },
  {
   "cell_type": "code",
   "execution_count": 4,
   "metadata": {},
   "outputs": [],
   "source": [
    "ClusteringFactory clusteringFactory = new ClusteringFactory();\n",
    "ResponseProcessor<ClusterID> emptyResponseProcessor = new EmptyResponseProcessor<>(clusteringFactory);\n",
    "Map<String, FieldProcessor> regexMappingProcessors = new HashMap<>();\n",
    "regexMappingProcessors.put(\"Feature1\", new DoubleFieldProcessor(\"Feature1\"));\n",
    "regexMappingProcessors.put(\"Feature2\", new DoubleFieldProcessor(\"Feature2\"));\n",
    "regexMappingProcessors.put(\"Feature3\", new DoubleFieldProcessor(\"Feature3\"));\n",
    "regexMappingProcessors.put(\"Feature4\", new DoubleFieldProcessor(\"Feature4\"));\n",
    "\n",
    "RowProcessor<ClusterID> rowProcessor = new RowProcessor<>(emptyResponseProcessor, regexMappingProcessors);\n",
    "CSVDataSource<ClusterID> csvDataSource = new CSVDataSource<>(Paths.get(\"../../../data/verybig-gaussians-6centers-train.csv\"), rowProcessor, false);\n",
    "Dataset<ClusterID> dataset = new MutableDataset<>(csvDataSource);\n",
    "\n",
    "CSVDataSource<ClusterID> csvTestSource = new CSVDataSource<>(Paths.get(\"../../../data/verybig-gaussians-6centers-predict.csv\"),rowProcessor,false);\n",
    "Dataset<ClusterID> predictSet = new MutableDataset<>(csvTestSource);\n"
   ]
  },
  {
   "cell_type": "code",
   "execution_count": 5,
   "metadata": {},
   "outputs": [
    {
     "name": "stdout",
     "output_type": "stream",
     "text": [
      "Data size = 30000, number of features = 4\n",
      "Predict Data size = 20000, number of features = 4\n"
     ]
    }
   ],
   "source": [
    "System.out.println(String.format(\"Data size = %d, number of features = %d\",dataset.size(),dataset.getFeatureMap().size()));\n",
    "System.out.println(String.format(\"Predict Data size = %d, number of features = %d\",predictSet.size(),predictSet.getFeatureMap().size()));\n"
   ]
  },
  {
   "cell_type": "code",
   "execution_count": 6,
   "metadata": {},
   "outputs": [],
   "source": [
    "var trainer = new HdbscanTrainer(10, HdbscanTrainer.Distance.EUCLIDEAN, 10, 8);\n",
    "var model = trainer.train(dataset);"
   ]
  },
  {
   "cell_type": "code",
   "execution_count": 7,
   "metadata": {},
   "outputs": [
    {
     "name": "stdout",
     "output_type": "stream",
     "text": [
      "30000\n"
     ]
    }
   ],
   "source": [
    "System.out.println(model.getClusterLabels().size());"
   ]
  },
  {
   "cell_type": "code",
   "execution_count": null,
   "metadata": {},
   "outputs": [],
   "source": []
  },
  {
   "cell_type": "code",
   "execution_count": 8,
   "metadata": {},
   "outputs": [
    {
     "name": "stdout",
     "output_type": "stream",
     "text": [
      "Predicting took (00:00:00:236)\n"
     ]
    }
   ],
   "source": [
    "var startTime = System.currentTimeMillis();\n",
    "List<Prediction<ClusterID>> predictions = model.predict(predictSet);\n",
    "var endTime = System.currentTimeMillis();\n",
    "System.out.println(\"Predicting took \" + Util.formatDuration(startTime,endTime));\n",
    "\n",
    "// run 1\n",
    "// time 0.26s\n",
    "\n",
    "// run 2\n",
    "// time 0.33s\n",
    "\n",
    "// run 3\n",
    "// time 0.24s"
   ]
  },
  {
   "cell_type": "code",
   "execution_count": null,
   "metadata": {},
   "outputs": [],
   "source": []
  }
 ],
 "metadata": {
  "kernelspec": {
   "display_name": "Java",
   "language": "java",
   "name": "java"
  },
  "language_info": {
   "codemirror_mode": "java",
   "file_extension": ".jshell",
   "mimetype": "text/x-java-source",
   "name": "Java",
   "pygments_lexer": "java",
   "version": "12.0.2+10"
  }
 },
 "nbformat": 4,
 "nbformat_minor": 4
}
