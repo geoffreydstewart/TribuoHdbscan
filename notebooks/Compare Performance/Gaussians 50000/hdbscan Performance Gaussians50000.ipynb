{
 "cells": [
  {
   "cell_type": "markdown",
   "metadata": {},
   "source": [
    "## This notebook measures Python hdbscan performance with the Gaussian 50000 data"
   ]
  },
  {
   "cell_type": "code",
   "execution_count": 1,
   "metadata": {},
   "outputs": [],
   "source": [
    "import numpy as np\n",
    "import pandas as pd\n",
    "from sklearn.metrics import adjusted_mutual_info_score\n",
    "from sklearn.metrics import normalized_mutual_info_score\n",
    "import hdbscan"
   ]
  },
  {
   "cell_type": "code",
   "execution_count": 2,
   "metadata": {},
   "outputs": [],
   "source": [
    "# same as /Users/gstewart/temp/development/mscs/cpsc69700/RefImpl/HDBSCAN_Star/verybig-gaussians-6centers.csv but with headers\n",
    "df = pd.read_csv('../../../data/verybig-gaussians-6centers.csv')"
   ]
  },
  {
   "cell_type": "code",
   "execution_count": 3,
   "metadata": {},
   "outputs": [
    {
     "name": "stdout",
     "output_type": "stream",
     "text": [
      "(50000, 7)\n"
     ]
    }
   ],
   "source": [
    "print(df.shape)"
   ]
  },
  {
   "cell_type": "code",
   "execution_count": 6,
   "metadata": {},
   "outputs": [
    {
     "name": "stdout",
     "output_type": "stream",
     "text": [
      "CPU times: user 4.34 s, sys: 63.5 ms, total: 4.4 s\n",
      "Wall time: 6.85 s\n"
     ]
    }
   ],
   "source": [
    "%time clusterer = hdbscan.HDBSCAN(min_cluster_size=10, prediction_data=True).fit(df)\n",
    "# run 1\n",
    "# time: 5.98s\n",
    "\n",
    "# run 2\n",
    "# time: \n",
    "\n",
    "# run 3\n",
    "# time: "
   ]
  },
  {
   "cell_type": "code",
   "execution_count": 5,
   "metadata": {},
   "outputs": [
    {
     "name": "stdout",
     "output_type": "stream",
     "text": [
      "50000\n"
     ]
    }
   ],
   "source": [
    "hdbscan_label_list = clusterer.labels_.tolist()\n",
    "print(len(hdbscan_label_list ))"
   ]
  },
  {
   "cell_type": "code",
   "execution_count": null,
   "metadata": {},
   "outputs": [],
   "source": []
  }
 ],
 "metadata": {
  "kernelspec": {
   "display_name": "Python 3",
   "language": "python",
   "name": "python3"
  },
  "language_info": {
   "codemirror_mode": {
    "name": "ipython",
    "version": 3
   },
   "file_extension": ".py",
   "mimetype": "text/x-python",
   "name": "python",
   "nbconvert_exporter": "python",
   "pygments_lexer": "ipython3",
   "version": "3.9.1"
  }
 },
 "nbformat": 4,
 "nbformat_minor": 4
}
