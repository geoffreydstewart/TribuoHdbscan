{
 "cells": [
  {
   "cell_type": "markdown",
   "metadata": {},
   "source": [
    "## This notebook measures Tribuo Hdbscan performance with the credit card data"
   ]
  },
  {
   "cell_type": "code",
   "execution_count": 1,
   "metadata": {},
   "outputs": [],
   "source": [
    "%jars ../../../jars/junit-jupiter-api-5.7.0.jar\n",
    "%jars ../../../jars/opentest4j-1.2.0.jar\n",
    "%jars ../../../jars/junit-platform-commons-1.7.1.jar\n",
    "%jars ../../../jars/tribuo-clustering-hdbscan-4.2.0-SNAPSHOT-jar-with-dependencies.jar"
   ]
  },
  {
   "cell_type": "code",
   "execution_count": 2,
   "metadata": {},
   "outputs": [],
   "source": [
    "import java.nio.file.Paths;\n",
    "import java.util.*;\n",
    "import java.util.stream.Collectors;\n",
    "import static org.junit.jupiter.api.Assertions.*;"
   ]
  },
  {
   "cell_type": "code",
   "execution_count": 3,
   "metadata": {},
   "outputs": [],
   "source": [
    "import org.tribuo.Dataset;\n",
    "import org.tribuo.Feature;\n",
    "import org.tribuo.MutableDataset;\n",
    "import org.tribuo.Prediction;\n",
    "import org.tribuo.clustering.ClusterID;\n",
    "import org.tribuo.clustering.ClusteringFactory;\n",
    "import org.tribuo.clustering.hdbscan.HdbscanModel;\n",
    "import org.tribuo.clustering.hdbscan.HdbscanTrainer;\n",
    "import org.tribuo.data.columnar.FieldProcessor;\n",
    "import org.tribuo.data.columnar.ResponseProcessor;\n",
    "import org.tribuo.data.columnar.RowProcessor;\n",
    "import org.tribuo.data.columnar.processors.field.DoubleFieldProcessor;\n",
    "import org.tribuo.data.columnar.processors.response.EmptyResponseProcessor;\n",
    "import org.tribuo.data.csv.CSVDataSource;\n",
    "import org.tribuo.data.csv.CSVLoader;\n",
    "import org.tribuo.util.Util;"
   ]
  },
  {
   "cell_type": "code",
   "execution_count": 4,
   "metadata": {},
   "outputs": [],
   "source": [
    "ClusteringFactory clusteringFactory = new ClusteringFactory();\n",
    "ResponseProcessor<ClusterID> emptyResponseProcessor = new EmptyResponseProcessor<>(clusteringFactory);\n",
    "Map<String, FieldProcessor> regexMappingProcessors = new HashMap<>();\n",
    "regexMappingProcessors.put(\"BALANCE\", new DoubleFieldProcessor(\"BALANCE\"));\n",
    "regexMappingProcessors.put(\"BALANCE_FREQUENCY\", new DoubleFieldProcessor(\"BALANCE_FREQUENCY\"));\n",
    "regexMappingProcessors.put(\"PURCHASES\", new DoubleFieldProcessor(\"PURCHASES\"));\n",
    "regexMappingProcessors.put(\"ONEOFF_PURCHASES\", new DoubleFieldProcessor(\"ONEOFF_PURCHASES\"));\n",
    "regexMappingProcessors.put(\"INSTALLMENTS_PURCHASES\", new DoubleFieldProcessor(\"INSTALLMENTS_PURCHASES\"));\n",
    "regexMappingProcessors.put(\"CASH_ADVANCE\", new DoubleFieldProcessor(\"CASH_ADVANCE\"));\n",
    "regexMappingProcessors.put(\"PURCHASES_FREQUENCY\", new DoubleFieldProcessor(\"PURCHASES_FREQUENCY\"));\n",
    "regexMappingProcessors.put(\"ONEOFF_PURCHASES_FREQUENCY\", new DoubleFieldProcessor(\"ONEOFF_PURCHASES_FREQUENCY\"));\n",
    "regexMappingProcessors.put(\"PURCHASES_INSTALLMENTS_FREQUENCY\", new DoubleFieldProcessor(\"PURCHASES_INSTALLMENTS_FREQUENCY\"));\n",
    "regexMappingProcessors.put(\"CASH_ADVANCE_FREQUENCY\", new DoubleFieldProcessor(\"CASH_ADVANCE_FREQUENCY\"));\n",
    "regexMappingProcessors.put(\"CASH_ADVANCE_TRX\", new DoubleFieldProcessor(\"CASH_ADVANCE_TRX\"));\n",
    "regexMappingProcessors.put(\"PURCHASES_TRX\", new DoubleFieldProcessor(\"PURCHASES_TRX\"));\n",
    "regexMappingProcessors.put(\"CREDIT_LIMIT\", new DoubleFieldProcessor(\"CREDIT_LIMIT\"));\n",
    "regexMappingProcessors.put(\"PAYMENTS\", new DoubleFieldProcessor(\"PAYMENTS\"));\n",
    "regexMappingProcessors.put(\"MINIMUM_PAYMENTS\", new DoubleFieldProcessor(\"MINIMUM_PAYMENTS\"));\n",
    "regexMappingProcessors.put(\"PRC_FULL_PAYMENT\", new DoubleFieldProcessor(\"PRC_FULL_PAYMENT\"));\n",
    "regexMappingProcessors.put(\"TENURE\", new DoubleFieldProcessor(\"TENURE\"));\n",
    "\n",
    "RowProcessor<ClusterID> rowProcessor = new RowProcessor<>(emptyResponseProcessor, regexMappingProcessors);\n",
    "CSVDataSource<ClusterID> csvDataSource = new CSVDataSource<>(Paths.get(\"../../../data/cleanedCC.csv\"), rowProcessor, false);\n",
    "Dataset<ClusterID> dataset = new MutableDataset<>(csvDataSource);"
   ]
  },
  {
   "cell_type": "code",
   "execution_count": 5,
   "metadata": {},
   "outputs": [
    {
     "name": "stdout",
     "output_type": "stream",
     "text": [
      "Data size = 8949, number of features = 17\n"
     ]
    }
   ],
   "source": [
    "System.out.println(String.format(\"Data size = %d, number of features = %d\",dataset.size(),dataset.getFeatureMap().size()));\n"
   ]
  },
  {
   "cell_type": "code",
   "execution_count": 6,
   "metadata": {},
   "outputs": [
    {
     "name": "stdout",
     "output_type": "stream",
     "text": [
      "Training took (00:00:04:085)\n"
     ]
    }
   ],
   "source": [
    "var trainer = new HdbscanTrainer(5, HdbscanTrainer.Distance.EUCLIDEAN, 5, 4);\n",
    "var startTime = System.currentTimeMillis();\n",
    "var model = trainer.train(dataset);\n",
    "var endTime = System.currentTimeMillis();\n",
    "System.out.println(\"Training took \" + Util.formatDuration(startTime,endTime));\n",
    "\n",
    "// run 1\n",
    "// time 4.01s\n",
    "\n",
    "// run 2\n",
    "// time \n",
    "\n",
    "// run 3\n",
    "// time "
   ]
  },
  {
   "cell_type": "code",
   "execution_count": 7,
   "metadata": {},
   "outputs": [
    {
     "name": "stdout",
     "output_type": "stream",
     "text": [
      "8949\n"
     ]
    }
   ],
   "source": [
    "System.out.println(model.getClusterLabels().size());"
   ]
  },
  {
   "cell_type": "code",
   "execution_count": null,
   "metadata": {},
   "outputs": [],
   "source": []
  }
 ],
 "metadata": {
  "kernelspec": {
   "display_name": "Java",
   "language": "java",
   "name": "java"
  },
  "language_info": {
   "codemirror_mode": "java",
   "file_extension": ".jshell",
   "mimetype": "text/x-java-source",
   "name": "Java",
   "pygments_lexer": "java",
   "version": "12.0.2+10"
  }
 },
 "nbformat": 4,
 "nbformat_minor": 4
}
