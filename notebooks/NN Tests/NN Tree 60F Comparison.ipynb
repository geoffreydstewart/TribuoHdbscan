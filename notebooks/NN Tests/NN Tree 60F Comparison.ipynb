{
 "cells": [
  {
   "cell_type": "code",
   "execution_count": 1,
   "metadata": {},
   "outputs": [],
   "source": [
    "from sklearn.neighbors import KDTree\n",
    "from sklearn.neighbors import BallTree\n",
    "from sklearn.neighbors import NearestNeighbors\n",
    "from sklearn.datasets import make_blobs\n",
    "from sklearn.model_selection import train_test_split"
   ]
  },
  {
   "cell_type": "code",
   "execution_count": 2,
   "metadata": {},
   "outputs": [],
   "source": [
    "X, y = make_blobs(n_samples=50000, centers=10, n_features=60, random_state=0)"
   ]
  },
  {
   "cell_type": "code",
   "execution_count": 3,
   "metadata": {},
   "outputs": [
    {
     "name": "stdout",
     "output_type": "stream",
     "text": [
      "(60,)\n",
      "60\n"
     ]
    }
   ],
   "source": [
    "# get row 50\n",
    "print(X[50, :].shape)\n",
    "print(len(X[50, :]))\n",
    "# print(X_test[50, :])"
   ]
  },
  {
   "cell_type": "code",
   "execution_count": 4,
   "metadata": {},
   "outputs": [],
   "source": [
    "# this gives a 2D array of just row 50\n",
    "# print(X_test[50:51])"
   ]
  },
  {
   "cell_type": "code",
   "execution_count": null,
   "metadata": {},
   "outputs": [],
   "source": []
  },
  {
   "cell_type": "code",
   "execution_count": 5,
   "metadata": {},
   "outputs": [
    {
     "name": "stdout",
     "output_type": "stream",
     "text": [
      "CPU times: user 4.64 ms, sys: 2.33 ms, total: 6.97 ms\n",
      "Wall time: 4.4 ms\n"
     ]
    }
   ],
   "source": [
    "%time nn = NearestNeighbors(n_neighbors=5, algorithm='brute').fit(X)"
   ]
  },
  {
   "cell_type": "code",
   "execution_count": 6,
   "metadata": {},
   "outputs": [
    {
     "name": "stdout",
     "output_type": "stream",
     "text": [
      "CPU times: user 58.3 s, sys: 16.8 s, total: 1min 15s\n",
      "Wall time: 1min 2s\n",
      "50000\n"
     ]
    }
   ],
   "source": [
    "%time dist, ind = nn.kneighbors(X)\n",
    "print(len(ind))"
   ]
  },
  {
   "cell_type": "code",
   "execution_count": null,
   "metadata": {},
   "outputs": [],
   "source": []
  },
  {
   "cell_type": "code",
   "execution_count": 7,
   "metadata": {},
   "outputs": [
    {
     "name": "stdout",
     "output_type": "stream",
     "text": [
      "CPU times: user 301 ms, sys: 8.11 ms, total: 309 ms\n",
      "Wall time: 313 ms\n"
     ]
    }
   ],
   "source": [
    "# 40 is a scikit-learn default and also found in hdbscan module for tree construction\n",
    "%time kdtree = KDTree(X, leaf_size=40)"
   ]
  },
  {
   "cell_type": "code",
   "execution_count": 8,
   "metadata": {},
   "outputs": [
    {
     "name": "stdout",
     "output_type": "stream",
     "text": [
      "CPU times: user 48.7 s, sys: 266 ms, total: 49 s\n",
      "Wall time: 50 s\n",
      "50000\n"
     ]
    }
   ],
   "source": [
    "%time dist, ind = kdtree.query(X, k=5)\n",
    "print(len(ind))"
   ]
  },
  {
   "cell_type": "code",
   "execution_count": null,
   "metadata": {},
   "outputs": [],
   "source": []
  },
  {
   "cell_type": "code",
   "execution_count": 9,
   "metadata": {},
   "outputs": [
    {
     "name": "stdout",
     "output_type": "stream",
     "text": [
      "CPU times: user 304 ms, sys: 7.96 ms, total: 312 ms\n",
      "Wall time: 321 ms\n"
     ]
    }
   ],
   "source": [
    "%time balltree = BallTree(X, leaf_size=40)"
   ]
  },
  {
   "cell_type": "code",
   "execution_count": 10,
   "metadata": {},
   "outputs": [
    {
     "name": "stdout",
     "output_type": "stream",
     "text": [
      "CPU times: user 1min 14s, sys: 429 ms, total: 1min 14s\n",
      "Wall time: 1min 16s\n",
      "50000\n"
     ]
    }
   ],
   "source": [
    "%time dist, ind = balltree.query(X, k=5)\n",
    "print(len(ind))"
   ]
  }
 ],
 "metadata": {
  "kernelspec": {
   "display_name": "Python 3",
   "language": "python",
   "name": "python3"
  },
  "language_info": {
   "codemirror_mode": {
    "name": "ipython",
    "version": 3
   },
   "file_extension": ".py",
   "mimetype": "text/x-python",
   "name": "python",
   "nbconvert_exporter": "python",
   "pygments_lexer": "ipython3",
   "version": "3.9.1"
  }
 },
 "nbformat": 4,
 "nbformat_minor": 4
}
