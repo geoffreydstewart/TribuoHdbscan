{
 "cells": [
  {
   "cell_type": "markdown",
   "metadata": {},
   "source": [
    "## This notebook prepares a dataset for testing HDBSCAN Predictions: 5000 records, 3 centers, 4 features"
   ]
  },
  {
   "cell_type": "code",
   "execution_count": 1,
   "metadata": {},
   "outputs": [],
   "source": [
    "import numpy as np\n",
    "import pandas as pd\n",
    "from sklearn.datasets import make_blobs"
   ]
  },
  {
   "cell_type": "code",
   "execution_count": 2,
   "metadata": {},
   "outputs": [],
   "source": [
    "X, y = make_blobs(n_samples=5000, centers=3, n_features=4, random_state=0)"
   ]
  },
  {
   "cell_type": "code",
   "execution_count": 3,
   "metadata": {},
   "outputs": [
    {
     "name": "stdout",
     "output_type": "stream",
     "text": [
      "(5000, 4)\n"
     ]
    }
   ],
   "source": [
    "print(X.shape)"
   ]
  },
  {
   "cell_type": "code",
   "execution_count": 4,
   "metadata": {},
   "outputs": [
    {
     "name": "stdout",
     "output_type": "stream",
     "text": [
      "[ 8.25211094 -2.18435032  6.82927351  0.4625509 ]\n"
     ]
    }
   ],
   "source": [
    "print(X[0])"
   ]
  },
  {
   "cell_type": "code",
   "execution_count": 5,
   "metadata": {},
   "outputs": [],
   "source": [
    "df = pd.DataFrame({'Feature1': X[:, 0], 'Feature2': X[:, 1], 'Feature3': X[:, 2], 'Feature4': X[:, 3]})\n"
   ]
  },
  {
   "cell_type": "code",
   "execution_count": 6,
   "metadata": {},
   "outputs": [
    {
     "data": {
      "text/html": [
       "<div>\n",
       "<style scoped>\n",
       "    .dataframe tbody tr th:only-of-type {\n",
       "        vertical-align: middle;\n",
       "    }\n",
       "\n",
       "    .dataframe tbody tr th {\n",
       "        vertical-align: top;\n",
       "    }\n",
       "\n",
       "    .dataframe thead th {\n",
       "        text-align: right;\n",
       "    }\n",
       "</style>\n",
       "<table border=\"1\" class=\"dataframe\">\n",
       "  <thead>\n",
       "    <tr style=\"text-align: right;\">\n",
       "      <th></th>\n",
       "      <th>Feature1</th>\n",
       "      <th>Feature2</th>\n",
       "      <th>Feature3</th>\n",
       "      <th>Feature4</th>\n",
       "    </tr>\n",
       "  </thead>\n",
       "  <tbody>\n",
       "    <tr>\n",
       "      <th>0</th>\n",
       "      <td>8.252111</td>\n",
       "      <td>-2.184350</td>\n",
       "      <td>6.829274</td>\n",
       "      <td>0.462551</td>\n",
       "    </tr>\n",
       "    <tr>\n",
       "      <th>1</th>\n",
       "      <td>0.008188</td>\n",
       "      <td>4.780855</td>\n",
       "      <td>1.699316</td>\n",
       "      <td>3.437895</td>\n",
       "    </tr>\n",
       "    <tr>\n",
       "      <th>2</th>\n",
       "      <td>10.203929</td>\n",
       "      <td>-2.089471</td>\n",
       "      <td>5.469007</td>\n",
       "      <td>2.435436</td>\n",
       "    </tr>\n",
       "    <tr>\n",
       "      <th>3</th>\n",
       "      <td>1.595425</td>\n",
       "      <td>2.429474</td>\n",
       "      <td>1.155381</td>\n",
       "      <td>1.379744</td>\n",
       "    </tr>\n",
       "    <tr>\n",
       "      <th>4</th>\n",
       "      <td>1.847534</td>\n",
       "      <td>4.964358</td>\n",
       "      <td>3.229329</td>\n",
       "      <td>1.428795</td>\n",
       "    </tr>\n",
       "    <tr>\n",
       "      <th>5</th>\n",
       "      <td>1.707929</td>\n",
       "      <td>4.238299</td>\n",
       "      <td>2.403437</td>\n",
       "      <td>1.560922</td>\n",
       "    </tr>\n",
       "    <tr>\n",
       "      <th>6</th>\n",
       "      <td>8.682364</td>\n",
       "      <td>-1.882109</td>\n",
       "      <td>6.300037</td>\n",
       "      <td>1.954943</td>\n",
       "    </tr>\n",
       "    <tr>\n",
       "      <th>7</th>\n",
       "      <td>-2.136359</td>\n",
       "      <td>3.980295</td>\n",
       "      <td>-1.288406</td>\n",
       "      <td>7.559039</td>\n",
       "    </tr>\n",
       "    <tr>\n",
       "      <th>8</th>\n",
       "      <td>9.596480</td>\n",
       "      <td>-2.428622</td>\n",
       "      <td>6.325567</td>\n",
       "      <td>0.178875</td>\n",
       "    </tr>\n",
       "    <tr>\n",
       "      <th>9</th>\n",
       "      <td>9.258085</td>\n",
       "      <td>-3.213289</td>\n",
       "      <td>6.429689</td>\n",
       "      <td>0.492628</td>\n",
       "    </tr>\n",
       "  </tbody>\n",
       "</table>\n",
       "</div>"
      ],
      "text/plain": [
       "    Feature1  Feature2  Feature3  Feature4\n",
       "0   8.252111 -2.184350  6.829274  0.462551\n",
       "1   0.008188  4.780855  1.699316  3.437895\n",
       "2  10.203929 -2.089471  5.469007  2.435436\n",
       "3   1.595425  2.429474  1.155381  1.379744\n",
       "4   1.847534  4.964358  3.229329  1.428795\n",
       "5   1.707929  4.238299  2.403437  1.560922\n",
       "6   8.682364 -1.882109  6.300037  1.954943\n",
       "7  -2.136359  3.980295 -1.288406  7.559039\n",
       "8   9.596480 -2.428622  6.325567  0.178875\n",
       "9   9.258085 -3.213289  6.429689  0.492628"
      ]
     },
     "execution_count": 6,
     "metadata": {},
     "output_type": "execute_result"
    }
   ],
   "source": [
    "df.head(10)"
   ]
  },
  {
   "cell_type": "code",
   "execution_count": null,
   "metadata": {},
   "outputs": [],
   "source": []
  },
  {
   "cell_type": "code",
   "execution_count": 7,
   "metadata": {},
   "outputs": [],
   "source": [
    "df_train = df[:4000]\n",
    "df_predict = df[4000:]"
   ]
  },
  {
   "cell_type": "code",
   "execution_count": null,
   "metadata": {},
   "outputs": [],
   "source": []
  },
  {
   "cell_type": "code",
   "execution_count": 8,
   "metadata": {},
   "outputs": [],
   "source": [
    "# write out the data, the tribuo loader uses the header\n",
    "df_train.to_csv('../../data/big-gaussians-3centers-train.csv', index=False, header=True)\n",
    "df_predict.to_csv('../../data/big-gaussians-3centers-predict.csv', index=False, header=True)\n"
   ]
  },
  {
   "cell_type": "code",
   "execution_count": null,
   "metadata": {},
   "outputs": [],
   "source": []
  },
  {
   "cell_type": "code",
   "execution_count": null,
   "metadata": {},
   "outputs": [],
   "source": []
  },
  {
   "cell_type": "code",
   "execution_count": 9,
   "metadata": {},
   "outputs": [],
   "source": [
    "# y_train\n",
    "# print(y[:4000].tolist())"
   ]
  },
  {
   "cell_type": "code",
   "execution_count": 10,
   "metadata": {},
   "outputs": [
    {
     "name": "stdout",
     "output_type": "stream",
     "text": [
      "[1, 2, 2, 2, 0, 0, 0, 2, 0, 0, 0, 2, 1, 1, 0, 2, 2, 1, 1, 1, 0, 0, 1, 2, 0, 0, 0, 2, 1, 0, 1, 1, 2, 1, 2, 0, 0, 2, 1, 1, 0, 0, 0, 0, 2, 2, 1, 1, 0, 0, 2, 2, 2, 1, 2, 2, 0, 0, 1, 1, 1, 1, 0, 0, 0, 1, 2, 0, 1, 1, 0, 1, 2, 0, 2, 1, 1, 0, 0, 1, 0, 1, 0, 2, 2, 0, 2, 0, 1, 2, 0, 0, 0, 1, 2, 2, 0, 0, 0, 2, 1, 2, 2, 0, 0, 0, 1, 0, 1, 1, 0, 0, 0, 0, 2, 0, 1, 1, 1, 1, 1, 2, 2, 2, 1, 2, 0, 2, 1, 1, 0, 1, 0, 0, 0, 2, 0, 0, 1, 1, 2, 1, 0, 2, 0, 2, 2, 1, 1, 1, 2, 2, 2, 2, 0, 0, 0, 1, 2, 2, 0, 2, 0, 0, 1, 2, 2, 0, 1, 0, 2, 1, 1, 0, 1, 1, 0, 2, 0, 1, 0, 1, 2, 0, 1, 1, 1, 2, 0, 2, 0, 2, 2, 0, 0, 0, 1, 2, 1, 1, 0, 1, 1, 1, 0, 1, 0, 2, 0, 2, 0, 0, 0, 0, 0, 2, 2, 0, 0, 1, 0, 0, 2, 2, 1, 0, 0, 1, 2, 1, 1, 1, 1, 1, 1, 1, 0, 0, 1, 0, 0, 2, 0, 2, 0, 2, 0, 2, 1, 0, 0, 2, 0, 2, 1, 1, 1, 1, 0, 1, 1, 0, 2, 0, 2, 1, 1, 1, 1, 0, 1, 2, 2, 1, 0, 0, 1, 0, 0, 1, 2, 1, 0, 2, 0, 0, 2, 0, 0, 0, 2, 0, 2, 2, 0, 0, 1, 0, 1, 1, 0, 0, 2, 0, 1, 2, 0, 2, 0, 0, 0, 2, 0, 0, 0, 1, 1, 2, 2, 0, 0, 0, 2, 2, 1, 0, 1, 0, 1, 0, 0, 2, 1, 0, 0, 2, 1, 2, 2, 0, 0, 1, 2, 2, 2, 1, 0, 0, 2, 1, 0, 2, 0, 0, 0, 0, 0, 1, 1, 0, 2, 2, 1, 2, 0, 1, 2, 1, 0, 0, 0, 2, 1, 2, 1, 2, 1, 2, 2, 1, 0, 1, 1, 1, 2, 1, 1, 2, 1, 0, 1, 1, 0, 2, 0, 0, 0, 2, 1, 2, 2, 2, 0, 0, 2, 0, 0, 1, 1, 1, 1, 2, 1, 2, 1, 2, 2, 2, 2, 0, 0, 2, 2, 0, 0, 1, 1, 1, 2, 0, 0, 2, 0, 0, 2, 0, 2, 0, 1, 2, 1, 0, 2, 2, 2, 1, 1, 0, 0, 1, 1, 0, 0, 2, 1, 2, 2, 2, 2, 1, 0, 0, 0, 1, 2, 1, 2, 0, 1, 0, 2, 0, 1, 1, 1, 2, 1, 0, 2, 2, 2, 0, 2, 1, 0, 1, 2, 0, 1, 0, 2, 1, 2, 2, 0, 0, 2, 0, 1, 1, 0, 2, 2, 1, 2, 1, 0, 1, 0, 1, 0, 2, 1, 1, 1, 0, 2, 2, 2, 1, 2, 1, 0, 0, 0, 0, 1, 2, 0, 1, 2, 1, 1, 0, 0, 2, 0, 2, 0, 0, 2, 2, 2, 2, 2, 1, 0, 0, 1, 0, 2, 1, 0, 0, 1, 1, 1, 0, 0, 2, 1, 2, 1, 1, 1, 0, 0, 1, 0, 2, 2, 2, 0, 0, 2, 2, 1, 2, 1, 2, 0, 2, 2, 2, 2, 0, 0, 0, 2, 0, 0, 2, 0, 2, 0, 2, 1, 1, 0, 1, 2, 1, 0, 2, 0, 0, 2, 2, 1, 1, 0, 1, 0, 1, 2, 2, 2, 0, 0, 0, 2, 2, 2, 2, 0, 2, 1, 1, 2, 0, 1, 2, 0, 2, 0, 2, 2, 1, 2, 2, 0, 2, 1, 1, 1, 0, 1, 0, 0, 2, 2, 0, 1, 0, 0, 0, 0, 2, 1, 1, 0, 2, 0, 2, 2, 1, 0, 0, 2, 0, 2, 2, 0, 1, 2, 2, 0, 1, 1, 2, 1, 2, 2, 1, 1, 0, 2, 2, 1, 2, 1, 2, 1, 1, 2, 2, 2, 1, 2, 0, 1, 0, 2, 1, 1, 2, 1, 2, 1, 0, 2, 0, 0, 0, 0, 0, 0, 0, 2, 0, 0, 1, 2, 2, 2, 2, 2, 2, 2, 1, 2, 1, 1, 2, 0, 1, 1, 0, 0, 2, 1, 2, 0, 2, 0, 2, 0, 2, 2, 2, 1, 2, 0, 0, 2, 1, 2, 1, 0, 2, 0, 2, 1, 0, 1, 2, 1, 1, 0, 0, 2, 2, 0, 1, 0, 2, 2, 2, 1, 0, 1, 2, 1, 0, 1, 2, 0, 0, 1, 1, 2, 2, 1, 0, 0, 0, 2, 0, 1, 1, 0, 0, 0, 1, 1, 2, 0, 2, 1, 0, 0, 2, 1, 0, 1, 0, 2, 0, 0, 2, 1, 1, 0, 1, 2, 2, 1, 1, 1, 0, 2, 2, 2, 2, 1, 0, 0, 2, 2, 0, 1, 1, 2, 0, 2, 0, 2, 2, 0, 0, 1, 2, 1, 0, 2, 2, 1, 2, 1, 1, 1, 0, 1, 1, 1, 0, 2, 0, 0, 2, 0, 1, 2, 2, 1, 0, 2, 1, 2, 1, 0, 0, 0, 2, 0, 1, 2, 2, 0, 1, 0, 1, 0, 1, 1, 0, 0, 1, 2, 1, 2, 0, 2, 2, 2, 0, 2, 2, 2, 0, 0, 1, 0, 1, 1, 1, 1, 0, 0, 2, 2, 2, 0, 2, 0, 0, 1, 2, 0, 0, 0, 2, 2, 2, 2, 2, 2, 2, 1, 0, 1, 2, 2, 0, 2, 0, 2, 1, 2, 1, 2, 0, 0, 1, 1, 1, 0, 2, 0, 2, 2, 2, 2, 2, 1, 2, 0, 0, 0, 2, 1, 2, 1, 1, 0, 1, 2, 2, 1, 0, 1, 2, 1, 0, 1, 1, 2, 2, 1, 1, 0, 0, 2, 2, 1, 2, 0, 2, 1, 1]\n"
     ]
    }
   ],
   "source": [
    "# y_predict\n",
    "print(y[4000:].tolist())"
   ]
  }
 ],
 "metadata": {
  "kernelspec": {
   "display_name": "Python 3",
   "language": "python",
   "name": "python3"
  },
  "language_info": {
   "codemirror_mode": {
    "name": "ipython",
    "version": 3
   },
   "file_extension": ".py",
   "mimetype": "text/x-python",
   "name": "python",
   "nbconvert_exporter": "python",
   "pygments_lexer": "ipython3",
   "version": "3.9.1"
  }
 },
 "nbformat": 4,
 "nbformat_minor": 4
}
