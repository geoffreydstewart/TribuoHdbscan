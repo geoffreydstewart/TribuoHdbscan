{
 "cells": [
  {
   "cell_type": "markdown",
   "metadata": {},
   "source": [
    "## This notebook prepares a dataset for testing HDBSCAN Predictions: 5000 records, 5 centers, 4 features"
   ]
  },
  {
   "cell_type": "code",
   "execution_count": 1,
   "metadata": {},
   "outputs": [],
   "source": [
    "import numpy as np\n",
    "import pandas as pd\n",
    "from sklearn.datasets import make_blobs"
   ]
  },
  {
   "cell_type": "code",
   "execution_count": 2,
   "metadata": {},
   "outputs": [],
   "source": [
    "X, y = make_blobs(n_samples=5000, centers=5, n_features=4, random_state=0)"
   ]
  },
  {
   "cell_type": "code",
   "execution_count": 3,
   "metadata": {},
   "outputs": [
    {
     "name": "stdout",
     "output_type": "stream",
     "text": [
      "(5000, 4)\n"
     ]
    }
   ],
   "source": [
    "print(X.shape)"
   ]
  },
  {
   "cell_type": "code",
   "execution_count": 4,
   "metadata": {},
   "outputs": [
    {
     "name": "stdout",
     "output_type": "stream",
     "text": [
      "[ 7.70771342 -1.26691781  5.38792335  1.20370119]\n"
     ]
    }
   ],
   "source": [
    "print(X[0])"
   ]
  },
  {
   "cell_type": "code",
   "execution_count": 5,
   "metadata": {},
   "outputs": [],
   "source": [
    "df = pd.DataFrame({'Feature1': X[:, 0], 'Feature2': X[:, 1], 'Feature3': X[:, 2], 'Feature4': X[:, 3]})\n"
   ]
  },
  {
   "cell_type": "code",
   "execution_count": 6,
   "metadata": {},
   "outputs": [
    {
     "data": {
      "text/html": [
       "<div>\n",
       "<style scoped>\n",
       "    .dataframe tbody tr th:only-of-type {\n",
       "        vertical-align: middle;\n",
       "    }\n",
       "\n",
       "    .dataframe tbody tr th {\n",
       "        vertical-align: top;\n",
       "    }\n",
       "\n",
       "    .dataframe thead th {\n",
       "        text-align: right;\n",
       "    }\n",
       "</style>\n",
       "<table border=\"1\" class=\"dataframe\">\n",
       "  <thead>\n",
       "    <tr style=\"text-align: right;\">\n",
       "      <th></th>\n",
       "      <th>Feature1</th>\n",
       "      <th>Feature2</th>\n",
       "      <th>Feature3</th>\n",
       "      <th>Feature4</th>\n",
       "    </tr>\n",
       "  </thead>\n",
       "  <tbody>\n",
       "    <tr>\n",
       "      <th>0</th>\n",
       "      <td>7.707713</td>\n",
       "      <td>-1.266918</td>\n",
       "      <td>5.387923</td>\n",
       "      <td>1.203701</td>\n",
       "    </tr>\n",
       "    <tr>\n",
       "      <th>1</th>\n",
       "      <td>3.150831</td>\n",
       "      <td>9.309946</td>\n",
       "      <td>-8.825983</td>\n",
       "      <td>-8.143661</td>\n",
       "    </tr>\n",
       "    <tr>\n",
       "      <th>2</th>\n",
       "      <td>1.484398</td>\n",
       "      <td>7.555982</td>\n",
       "      <td>-9.362430</td>\n",
       "      <td>-9.390599</td>\n",
       "    </tr>\n",
       "    <tr>\n",
       "      <th>3</th>\n",
       "      <td>-1.109179</td>\n",
       "      <td>3.176266</td>\n",
       "      <td>-2.398684</td>\n",
       "      <td>8.164574</td>\n",
       "    </tr>\n",
       "    <tr>\n",
       "      <th>4</th>\n",
       "      <td>1.583382</td>\n",
       "      <td>3.255617</td>\n",
       "      <td>1.195005</td>\n",
       "      <td>1.225965</td>\n",
       "    </tr>\n",
       "    <tr>\n",
       "      <th>5</th>\n",
       "      <td>9.845388</td>\n",
       "      <td>-2.373233</td>\n",
       "      <td>6.667881</td>\n",
       "      <td>0.448418</td>\n",
       "    </tr>\n",
       "    <tr>\n",
       "      <th>6</th>\n",
       "      <td>2.206561</td>\n",
       "      <td>5.506167</td>\n",
       "      <td>1.667941</td>\n",
       "      <td>0.595361</td>\n",
       "    </tr>\n",
       "    <tr>\n",
       "      <th>7</th>\n",
       "      <td>8.504903</td>\n",
       "      <td>-2.090548</td>\n",
       "      <td>4.969810</td>\n",
       "      <td>-1.057357</td>\n",
       "    </tr>\n",
       "    <tr>\n",
       "      <th>8</th>\n",
       "      <td>-1.500025</td>\n",
       "      <td>1.832179</td>\n",
       "      <td>-1.875144</td>\n",
       "      <td>9.234417</td>\n",
       "    </tr>\n",
       "    <tr>\n",
       "      <th>9</th>\n",
       "      <td>1.464961</td>\n",
       "      <td>4.195825</td>\n",
       "      <td>0.633364</td>\n",
       "      <td>-0.038346</td>\n",
       "    </tr>\n",
       "  </tbody>\n",
       "</table>\n",
       "</div>"
      ],
      "text/plain": [
       "   Feature1  Feature2  Feature3  Feature4\n",
       "0  7.707713 -1.266918  5.387923  1.203701\n",
       "1  3.150831  9.309946 -8.825983 -8.143661\n",
       "2  1.484398  7.555982 -9.362430 -9.390599\n",
       "3 -1.109179  3.176266 -2.398684  8.164574\n",
       "4  1.583382  3.255617  1.195005  1.225965\n",
       "5  9.845388 -2.373233  6.667881  0.448418\n",
       "6  2.206561  5.506167  1.667941  0.595361\n",
       "7  8.504903 -2.090548  4.969810 -1.057357\n",
       "8 -1.500025  1.832179 -1.875144  9.234417\n",
       "9  1.464961  4.195825  0.633364 -0.038346"
      ]
     },
     "execution_count": 6,
     "metadata": {},
     "output_type": "execute_result"
    }
   ],
   "source": [
    "df.head(10)"
   ]
  },
  {
   "cell_type": "code",
   "execution_count": null,
   "metadata": {},
   "outputs": [],
   "source": []
  },
  {
   "cell_type": "code",
   "execution_count": 7,
   "metadata": {},
   "outputs": [],
   "source": [
    "df_train = df[:4000]\n",
    "df_predict = df[4000:]"
   ]
  },
  {
   "cell_type": "code",
   "execution_count": null,
   "metadata": {},
   "outputs": [],
   "source": []
  },
  {
   "cell_type": "code",
   "execution_count": 8,
   "metadata": {},
   "outputs": [],
   "source": [
    "# write out the data, the tribuo loader uses the header\n",
    "df_train.to_csv('../../data/big-gaussians-5centers-train.csv', index=False, header=True)\n",
    "df_predict.to_csv('../../data/big-gaussians-5centers-predict.csv', index=False, header=True)\n"
   ]
  },
  {
   "cell_type": "code",
   "execution_count": null,
   "metadata": {},
   "outputs": [],
   "source": []
  },
  {
   "cell_type": "code",
   "execution_count": null,
   "metadata": {},
   "outputs": [],
   "source": []
  },
  {
   "cell_type": "code",
   "execution_count": 9,
   "metadata": {},
   "outputs": [],
   "source": [
    "# y_train\n",
    "# print(y[:4000].tolist())"
   ]
  },
  {
   "cell_type": "code",
   "execution_count": 10,
   "metadata": {},
   "outputs": [
    {
     "name": "stdout",
     "output_type": "stream",
     "text": [
      "[0, 2, 2, 2, 3, 1, 4, 2, 2, 3, 3, 0, 4, 1, 4, 3, 3, 4, 4, 0, 0, 0, 3, 0, 0, 0, 3, 2, 2, 1, 3, 4, 2, 2, 2, 0, 0, 1, 4, 1, 1, 0, 4, 2, 0, 3, 2, 3, 3, 3, 1, 1, 4, 2, 3, 1, 1, 0, 0, 3, 3, 1, 2, 1, 1, 4, 3, 3, 2, 4, 3, 1, 0, 3, 2, 2, 1, 0, 0, 1, 2, 3, 0, 2, 1, 0, 2, 4, 0, 3, 3, 1, 0, 1, 2, 1, 2, 4, 4, 1, 4, 0, 0, 0, 0, 3, 2, 4, 3, 0, 1, 0, 2, 1, 2, 2, 1, 0, 1, 1, 4, 1, 2, 2, 2, 3, 2, 3, 4, 4, 2, 3, 1, 4, 2, 3, 0, 1, 1, 0, 1, 4, 0, 0, 3, 2, 3, 3, 0, 3, 0, 3, 4, 2, 2, 3, 4, 4, 4, 3, 0, 0, 0, 3, 3, 4, 1, 4, 1, 1, 1, 4, 4, 0, 3, 0, 3, 3, 1, 1, 2, 3, 0, 4, 1, 2, 1, 3, 4, 1, 2, 2, 2, 3, 0, 3, 1, 4, 4, 0, 0, 0, 1, 3, 2, 2, 1, 3, 1, 2, 1, 2, 1, 4, 0, 3, 0, 0, 0, 0, 0, 4, 4, 0, 1, 2, 0, 0, 3, 4, 2, 1, 0, 3, 3, 2, 2, 2, 2, 2, 2, 2, 0, 1, 2, 0, 1, 4, 1, 4, 0, 4, 0, 4, 2, 1, 1, 4, 1, 4, 2, 1, 1, 2, 0, 2, 2, 0, 3, 1, 3, 2, 2, 1, 2, 0, 2, 4, 4, 2, 0, 0, 2, 0, 1, 2, 4, 2, 0, 4, 1, 0, 4, 0, 1, 1, 4, 0, 3, 3, 1, 0, 2, 0, 2, 3, 0, 1, 4, 1, 1, 3, 0, 4, 0, 0, 1, 4, 1, 0, 0, 1, 2, 4, 4, 1, 1, 1, 4, 3, 2, 1, 3, 0, 2, 1, 0, 3, 2, 0, 0, 3, 2, 3, 4, 1, 0, 1, 4, 4, 3, 2, 1, 0, 4, 2, 1, 3, 1, 0, 0, 1, 0, 2, 2, 0, 4, 4, 2, 4, 0, 2, 3, 3, 1, 0, 0, 4, 2, 4, 2, 4, 2, 3, 4, 1, 1, 2, 2, 3, 4, 2, 1, 4, 2, 0, 2, 2, 1, 4, 0, 0, 1, 3, 3, 4, 3, 3, 1, 0, 4, 0, 1, 2, 3, 2, 1, 4, 2, 4, 1, 3, 3, 4, 4, 0, 0, 4, 4, 1, 0, 1, 2, 3, 3, 0, 0, 3, 1, 0, 3, 0, 3, 0, 3, 3, 2, 1, 4, 4, 3, 1, 2, 1, 0, 1, 2, 0, 0, 4, 2, 4, 4, 3, 4, 2, 0, 0, 1, 1, 3, 2, 3, 1, 2, 0, 4, 0, 3, 2, 3, 4, 3, 1, 3, 3, 4, 4, 1, 4, 2, 1, 1, 3, 0, 1, 0, 4, 2, 4, 3, 1, 0, 3, 1, 3, 2, 0, 4, 4, 1, 4, 2, 0, 1, 0, 2, 1, 4, 2, 2, 1, 0, 3, 4, 4, 3, 4, 2, 1, 1, 1, 1, 2, 4, 0, 1, 4, 2, 2, 1, 1, 3, 0, 4, 0, 1, 3, 4, 4, 3, 3, 3, 0, 0, 2, 1, 4, 2, 0, 1, 3, 3, 2, 0, 0, 4, 2, 3, 1, 2, 3, 1, 1, 1, 1, 3, 3, 4, 0, 1, 4, 4, 2, 3, 2, 4, 1, 3, 4, 4, 4, 0, 1, 0, 4, 0, 0, 3, 0, 4, 1, 3, 3, 3, 0, 1, 3, 2, 1, 4, 0, 1, 4, 4, 2, 2, 0, 3, 1, 2, 4, 4, 4, 1, 0, 0, 4, 3, 3, 4, 1, 3, 2, 2, 3, 1, 2, 2, 1, 3, 1, 4, 4, 2, 4, 3, 0, 3, 2, 1, 2, 1, 2, 0, 0, 4, 4, 0, 2, 1, 1, 1, 0, 3, 2, 2, 1, 4, 0, 4, 4, 1, 1, 0, 4, 0, 4, 4, 0, 2, 3, 4, 0, 2, 2, 3, 1, 3, 4, 2, 2, 1, 4, 4, 2, 4, 3, 4, 1, 2, 3, 4, 4, 2, 4, 0, 2, 0, 4, 3, 3, 4, 2, 4, 2, 0, 3, 0, 1, 1, 1, 0, 1, 1, 4, 0, 0, 2, 3, 3, 3, 4, 1, 4, 3, 2, 4, 2, 1, 4, 1, 2, 2, 1, 1, 3, 3, 3, 0, 4, 0, 3, 0, 4, 4, 4, 2, 3, 1, 1, 3, 1, 3, 2, 1, 3, 0, 3, 2, 0, 3, 4, 2, 3, 0, 1, 3, 4, 1, 2, 0, 4, 4, 3, 1, 0, 2, 3, 1, 1, 2, 4, 0, 0, 1, 2, 3, 4, 2, 0, 1, 0, 3, 1, 2, 3, 1, 0, 1, 2, 1, 4, 0, 3, 1, 0, 0, 3, 1, 0, 2, 0, 4, 1, 0, 4, 3, 2, 1, 2, 4, 3, 2, 2, 2, 1, 3, 4, 4, 3, 3, 0, 0, 3, 4, 0, 1, 2, 3, 0, 3, 0, 4, 3, 0, 0, 3, 4, 2, 0, 3, 4, 2, 3, 2, 2, 2, 0, 3, 2, 2, 0, 3, 0, 0, 3, 0, 3, 3, 4, 2, 1, 4, 1, 3, 3, 1, 1, 0, 3, 0, 3, 4, 4, 1, 2, 0, 2, 0, 3, 3, 0, 1, 2, 3, 3, 4, 0, 4, 3, 4, 0, 4, 3, 3, 0, 0, 3, 0, 2, 1, 1, 2, 1, 0, 3, 4, 4, 0, 3, 0, 1, 2, 3, 1, 1, 1, 3, 3, 4, 4, 4, 3, 3, 2, 0, 3, 3, 4, 0, 3, 0, 4, 2, 4, 2, 4, 1, 1, 2, 3, 2, 0, 3, 0, 4, 3, 3, 3, 3, 1, 3, 0, 0, 0, 4, 2, 4, 3, 2, 1, 2, 4, 4, 2, 1, 2, 3, 3, 0, 1, 1, 3, 3, 2, 2, 1, 0, 4]\n"
     ]
    }
   ],
   "source": [
    "# y_predict\n",
    "print(y[4000:].tolist())"
   ]
  }
 ],
 "metadata": {
  "kernelspec": {
   "display_name": "Python 3",
   "language": "python",
   "name": "python3"
  },
  "language_info": {
   "codemirror_mode": {
    "name": "ipython",
    "version": 3
   },
   "file_extension": ".py",
   "mimetype": "text/x-python",
   "name": "python",
   "nbconvert_exporter": "python",
   "pygments_lexer": "ipython3",
   "version": "3.9.1"
  }
 },
 "nbformat": 4,
 "nbformat_minor": 4
}
