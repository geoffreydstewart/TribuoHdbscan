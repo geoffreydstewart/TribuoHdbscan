{
 "cells": [
  {
   "cell_type": "code",
   "execution_count": 1,
   "metadata": {},
   "outputs": [],
   "source": [
    "!../../other/copy_jars.sh"
   ]
  },
  {
   "cell_type": "code",
   "execution_count": 2,
   "metadata": {},
   "outputs": [
    {
     "name": "stdout",
     "output_type": "stream",
     "text": [
      "total 19008\r\n",
      "drwxr-xr-x   7 gstewart  staff      224 Dec 13 16:32 \u001b[34m.\u001b[m\u001b[m\r\n",
      "drwxr-xr-x  11 gstewart  staff      352 Dec 13 16:49 \u001b[34m..\u001b[m\u001b[m\r\n",
      "-rw-r--r--@  1 gstewart  staff     6148 Nov 29 21:51 .DS_Store\r\n",
      "-rw-r--r--   1 gstewart  staff   174598 Sep 10 14:50 junit-jupiter-api-5.7.0.jar\r\n",
      "-rw-r--r--   1 gstewart  staff    99606 Jul 14 22:31 junit-platform-commons-1.7.1.jar\r\n",
      "-rw-r--r--   1 gstewart  staff     7653 Jul 14 22:31 opentest4j-1.2.0.jar\r\n",
      "-rw-r--r--   1 gstewart  staff  8996892 Dec 13 16:52 tribuo-clustering-hdbscan-4.2.0-SNAPSHOT-jar-with-dependencies.jar\r\n"
     ]
    }
   ],
   "source": [
    "!ls -al ../../jars"
   ]
  }
 ],
 "metadata": {
  "kernelspec": {
   "display_name": "Python 3",
   "language": "python",
   "name": "python3"
  },
  "language_info": {
   "codemirror_mode": {
    "name": "ipython",
    "version": 3
   },
   "file_extension": ".py",
   "mimetype": "text/x-python",
   "name": "python",
   "nbconvert_exporter": "python",
   "pygments_lexer": "ipython3",
   "version": "3.9.1"
  }
 },
 "nbformat": 4,
 "nbformat_minor": 4
}
