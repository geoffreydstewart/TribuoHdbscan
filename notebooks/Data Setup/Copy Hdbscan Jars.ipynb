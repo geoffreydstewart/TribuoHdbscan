{
 "cells": [
  {
   "cell_type": "code",
   "execution_count": 1,
   "metadata": {},
   "outputs": [],
   "source": [
    "!../../other/copy_jars.sh\n",
    "# !../../other/copy_snapshot_jars.sh"
   ]
  },
  {
   "cell_type": "code",
   "execution_count": 3,
   "metadata": {},
   "outputs": [
    {
     "name": "stdout",
     "output_type": "stream",
     "text": [
      "total 16456\r\n",
      "drwxr-xr-x   8 gstewart  staff      256 Dec  1 06:36 \u001b[34m.\u001b[m\u001b[m\r\n",
      "drwxr-xr-x  11 gstewart  staff      352 Mar 16  2022 \u001b[34m..\u001b[m\u001b[m\r\n",
      "-rw-r--r--@  1 gstewart  staff     6148 Dec  1 06:36 .DS_Store\r\n",
      "-rw-r--r--   1 gstewart  staff   174598 Sep 10  2021 junit-jupiter-api-5.7.0.jar\r\n",
      "-rw-r--r--   1 gstewart  staff    99606 Jul 14  2021 junit-platform-commons-1.7.1.jar\r\n",
      "-rw-r--r--   1 gstewart  staff   230363 Jul 14  2021 opencsv-5.4.jar\r\n",
      "-rw-r--r--   1 gstewart  staff     7653 Jul 14  2021 opentest4j-1.2.0.jar\r\n",
      "-rw-r--r--   1 gstewart  staff  7895344 Dec  1 06:35 tribuo-clustering-hdbscan-4.3.0-jar-with-dependencies.jar\r\n"
     ]
    }
   ],
   "source": [
    "!ls -al ../../jars"
   ]
  },
  {
   "cell_type": "code",
   "execution_count": null,
   "metadata": {},
   "outputs": [],
   "source": []
  }
 ],
 "metadata": {
  "kernelspec": {
   "display_name": "Python 3",
   "language": "python",
   "name": "python3"
  },
  "language_info": {
   "codemirror_mode": {
    "name": "ipython",
    "version": 3
   },
   "file_extension": ".py",
   "mimetype": "text/x-python",
   "name": "python",
   "nbconvert_exporter": "python",
   "pygments_lexer": "ipython3",
   "version": "3.9.1"
  }
 },
 "nbformat": 4,
 "nbformat_minor": 4
}
