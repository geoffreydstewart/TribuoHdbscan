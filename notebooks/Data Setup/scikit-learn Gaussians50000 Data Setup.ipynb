{
 "cells": [
  {
   "cell_type": "markdown",
   "metadata": {},
   "source": [
    "## This notebook prepares a dataset for testing HDBSCAN Performance: 50000 records, 6 centers, 7 features"
   ]
  },
  {
   "cell_type": "code",
   "execution_count": 1,
   "metadata": {},
   "outputs": [],
   "source": [
    "import numpy as np\n",
    "import pandas as pd\n",
    "from sklearn.datasets import make_blobs"
   ]
  },
  {
   "cell_type": "code",
   "execution_count": 2,
   "metadata": {},
   "outputs": [],
   "source": [
    "X, y = make_blobs(n_samples=50000, centers=6, n_features=7, random_state=0)"
   ]
  },
  {
   "cell_type": "code",
   "execution_count": 3,
   "metadata": {},
   "outputs": [
    {
     "name": "stdout",
     "output_type": "stream",
     "text": [
      "(50000, 7)\n"
     ]
    }
   ],
   "source": [
    "print(X.shape)"
   ]
  },
  {
   "cell_type": "code",
   "execution_count": 4,
   "metadata": {},
   "outputs": [
    {
     "name": "stdout",
     "output_type": "stream",
     "text": [
      "[  0.6023416   -0.37495916  -5.7706391    6.06399336  -1.06040465\n",
      "   2.36238377 -11.39805719]\n"
     ]
    }
   ],
   "source": [
    "print(X[0])"
   ]
  },
  {
   "cell_type": "code",
   "execution_count": 5,
   "metadata": {},
   "outputs": [],
   "source": [
    "df = pd.DataFrame({'Feature1': X[:, 0], 'Feature2': X[:, 1], 'Feature3': X[:, 2], 'Feature4': X[:, 3],\n",
    "                   'Feature5': X[:, 4], 'Feature6': X[:, 5], 'Feature7': X[:, 6]})\n"
   ]
  },
  {
   "cell_type": "code",
   "execution_count": 6,
   "metadata": {},
   "outputs": [
    {
     "data": {
      "text/html": [
       "<div>\n",
       "<style scoped>\n",
       "    .dataframe tbody tr th:only-of-type {\n",
       "        vertical-align: middle;\n",
       "    }\n",
       "\n",
       "    .dataframe tbody tr th {\n",
       "        vertical-align: top;\n",
       "    }\n",
       "\n",
       "    .dataframe thead th {\n",
       "        text-align: right;\n",
       "    }\n",
       "</style>\n",
       "<table border=\"1\" class=\"dataframe\">\n",
       "  <thead>\n",
       "    <tr style=\"text-align: right;\">\n",
       "      <th></th>\n",
       "      <th>Feature1</th>\n",
       "      <th>Feature2</th>\n",
       "      <th>Feature3</th>\n",
       "      <th>Feature4</th>\n",
       "      <th>Feature5</th>\n",
       "      <th>Feature6</th>\n",
       "      <th>Feature7</th>\n",
       "    </tr>\n",
       "  </thead>\n",
       "  <tbody>\n",
       "    <tr>\n",
       "      <th>0</th>\n",
       "      <td>0.602342</td>\n",
       "      <td>-0.374959</td>\n",
       "      <td>-5.770639</td>\n",
       "      <td>6.063993</td>\n",
       "      <td>-1.060405</td>\n",
       "      <td>2.362384</td>\n",
       "      <td>-11.398057</td>\n",
       "    </tr>\n",
       "    <tr>\n",
       "      <th>1</th>\n",
       "      <td>1.688797</td>\n",
       "      <td>3.198718</td>\n",
       "      <td>2.490968</td>\n",
       "      <td>10.177351</td>\n",
       "      <td>1.694162</td>\n",
       "      <td>-4.250377</td>\n",
       "      <td>-2.398952</td>\n",
       "    </tr>\n",
       "    <tr>\n",
       "      <th>2</th>\n",
       "      <td>4.718488</td>\n",
       "      <td>-1.253944</td>\n",
       "      <td>4.490699</td>\n",
       "      <td>-5.952670</td>\n",
       "      <td>0.996122</td>\n",
       "      <td>-6.525604</td>\n",
       "      <td>10.207481</td>\n",
       "    </tr>\n",
       "    <tr>\n",
       "      <th>3</th>\n",
       "      <td>1.076175</td>\n",
       "      <td>5.585624</td>\n",
       "      <td>1.085188</td>\n",
       "      <td>2.143040</td>\n",
       "      <td>-0.830033</td>\n",
       "      <td>2.853330</td>\n",
       "      <td>-2.306096</td>\n",
       "    </tr>\n",
       "    <tr>\n",
       "      <th>4</th>\n",
       "      <td>-2.118262</td>\n",
       "      <td>-1.514694</td>\n",
       "      <td>-4.318334</td>\n",
       "      <td>6.627320</td>\n",
       "      <td>-0.694475</td>\n",
       "      <td>1.535542</td>\n",
       "      <td>-10.963167</td>\n",
       "    </tr>\n",
       "    <tr>\n",
       "      <th>5</th>\n",
       "      <td>6.588203</td>\n",
       "      <td>9.528266</td>\n",
       "      <td>-2.630846</td>\n",
       "      <td>6.488710</td>\n",
       "      <td>1.723311</td>\n",
       "      <td>1.676188</td>\n",
       "      <td>8.608365</td>\n",
       "    </tr>\n",
       "    <tr>\n",
       "      <th>6</th>\n",
       "      <td>0.867917</td>\n",
       "      <td>5.140051</td>\n",
       "      <td>1.243405</td>\n",
       "      <td>0.060005</td>\n",
       "      <td>-0.211616</td>\n",
       "      <td>2.553359</td>\n",
       "      <td>0.745315</td>\n",
       "    </tr>\n",
       "    <tr>\n",
       "      <th>7</th>\n",
       "      <td>6.582555</td>\n",
       "      <td>-0.818618</td>\n",
       "      <td>6.643404</td>\n",
       "      <td>-6.864555</td>\n",
       "      <td>3.187543</td>\n",
       "      <td>-9.672304</td>\n",
       "      <td>10.576756</td>\n",
       "    </tr>\n",
       "    <tr>\n",
       "      <th>8</th>\n",
       "      <td>4.401374</td>\n",
       "      <td>-2.549581</td>\n",
       "      <td>4.834221</td>\n",
       "      <td>-8.223503</td>\n",
       "      <td>3.914765</td>\n",
       "      <td>-5.761899</td>\n",
       "      <td>7.481908</td>\n",
       "    </tr>\n",
       "    <tr>\n",
       "      <th>9</th>\n",
       "      <td>6.094434</td>\n",
       "      <td>-0.583238</td>\n",
       "      <td>6.725514</td>\n",
       "      <td>-8.108239</td>\n",
       "      <td>2.986612</td>\n",
       "      <td>-8.487490</td>\n",
       "      <td>8.211762</td>\n",
       "    </tr>\n",
       "  </tbody>\n",
       "</table>\n",
       "</div>"
      ],
      "text/plain": [
       "   Feature1  Feature2  Feature3   Feature4  Feature5  Feature6   Feature7\n",
       "0  0.602342 -0.374959 -5.770639   6.063993 -1.060405  2.362384 -11.398057\n",
       "1  1.688797  3.198718  2.490968  10.177351  1.694162 -4.250377  -2.398952\n",
       "2  4.718488 -1.253944  4.490699  -5.952670  0.996122 -6.525604  10.207481\n",
       "3  1.076175  5.585624  1.085188   2.143040 -0.830033  2.853330  -2.306096\n",
       "4 -2.118262 -1.514694 -4.318334   6.627320 -0.694475  1.535542 -10.963167\n",
       "5  6.588203  9.528266 -2.630846   6.488710  1.723311  1.676188   8.608365\n",
       "6  0.867917  5.140051  1.243405   0.060005 -0.211616  2.553359   0.745315\n",
       "7  6.582555 -0.818618  6.643404  -6.864555  3.187543 -9.672304  10.576756\n",
       "8  4.401374 -2.549581  4.834221  -8.223503  3.914765 -5.761899   7.481908\n",
       "9  6.094434 -0.583238  6.725514  -8.108239  2.986612 -8.487490   8.211762"
      ]
     },
     "execution_count": 6,
     "metadata": {},
     "output_type": "execute_result"
    }
   ],
   "source": [
    "df.head(10)"
   ]
  },
  {
   "cell_type": "code",
   "execution_count": null,
   "metadata": {},
   "outputs": [],
   "source": []
  },
  {
   "cell_type": "code",
   "execution_count": 7,
   "metadata": {},
   "outputs": [],
   "source": [
    "# write out the data, the tribuo loader uses the header\n",
    "df.to_csv('/Users/gstewart/temp/development/mscs/cpsc69700/RefImpl/HDBSCAN_Star/verybig-gaussians-6centers.csv', index=False, header=False)\n",
    "df.to_csv('../../data/verybig-gaussians-6centers.csv', index=False, header=True)\n"
   ]
  },
  {
   "cell_type": "code",
   "execution_count": null,
   "metadata": {},
   "outputs": [],
   "source": []
  }
 ],
 "metadata": {
  "kernelspec": {
   "display_name": "Python 3",
   "language": "python",
   "name": "python3"
  },
  "language_info": {
   "codemirror_mode": {
    "name": "ipython",
    "version": 3
   },
   "file_extension": ".py",
   "mimetype": "text/x-python",
   "name": "python",
   "nbconvert_exporter": "python",
   "pygments_lexer": "ipython3",
   "version": "3.9.1"
  }
 },
 "nbformat": 4,
 "nbformat_minor": 4
}
