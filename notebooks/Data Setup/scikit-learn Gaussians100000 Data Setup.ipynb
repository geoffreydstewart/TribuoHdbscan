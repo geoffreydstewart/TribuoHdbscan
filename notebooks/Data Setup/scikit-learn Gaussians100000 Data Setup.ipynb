{
 "cells": [
  {
   "cell_type": "markdown",
   "metadata": {},
   "source": [
    "## This notebook prepares a dataset for testing HDBSCAN Performance: 100000 records, 6 centers, 7 features"
   ]
  },
  {
   "cell_type": "code",
   "execution_count": 1,
   "metadata": {},
   "outputs": [],
   "source": [
    "import numpy as np\n",
    "import pandas as pd\n",
    "from sklearn.datasets import make_blobs"
   ]
  },
  {
   "cell_type": "code",
   "execution_count": 2,
   "metadata": {},
   "outputs": [],
   "source": [
    "X, y = make_blobs(n_samples=100000, centers=6, n_features=7, random_state=0)"
   ]
  },
  {
   "cell_type": "code",
   "execution_count": 3,
   "metadata": {},
   "outputs": [
    {
     "name": "stdout",
     "output_type": "stream",
     "text": [
      "(100000, 7)\n"
     ]
    }
   ],
   "source": [
    "print(X.shape)"
   ]
  },
  {
   "cell_type": "code",
   "execution_count": 4,
   "metadata": {},
   "outputs": [
    {
     "name": "stdout",
     "output_type": "stream",
     "text": [
      "[ -7.98052064  -8.96285772 -10.57567576   6.90806476   5.35194402\n",
      "   7.34244939   8.89208925]\n"
     ]
    }
   ],
   "source": [
    "print(X[0])"
   ]
  },
  {
   "cell_type": "code",
   "execution_count": 5,
   "metadata": {},
   "outputs": [],
   "source": [
    "df = pd.DataFrame({'Feature1': X[:, 0], 'Feature2': X[:, 1], 'Feature3': X[:, 2], 'Feature4': X[:, 3],\n",
    "                   'Feature5': X[:, 4], 'Feature6': X[:, 5], 'Feature7': X[:, 6]})\n"
   ]
  },
  {
   "cell_type": "code",
   "execution_count": 6,
   "metadata": {},
   "outputs": [
    {
     "data": {
      "text/html": [
       "<div>\n",
       "<style scoped>\n",
       "    .dataframe tbody tr th:only-of-type {\n",
       "        vertical-align: middle;\n",
       "    }\n",
       "\n",
       "    .dataframe tbody tr th {\n",
       "        vertical-align: top;\n",
       "    }\n",
       "\n",
       "    .dataframe thead th {\n",
       "        text-align: right;\n",
       "    }\n",
       "</style>\n",
       "<table border=\"1\" class=\"dataframe\">\n",
       "  <thead>\n",
       "    <tr style=\"text-align: right;\">\n",
       "      <th></th>\n",
       "      <th>Feature1</th>\n",
       "      <th>Feature2</th>\n",
       "      <th>Feature3</th>\n",
       "      <th>Feature4</th>\n",
       "      <th>Feature5</th>\n",
       "      <th>Feature6</th>\n",
       "      <th>Feature7</th>\n",
       "    </tr>\n",
       "  </thead>\n",
       "  <tbody>\n",
       "    <tr>\n",
       "      <th>0</th>\n",
       "      <td>-7.980521</td>\n",
       "      <td>-8.962858</td>\n",
       "      <td>-10.575676</td>\n",
       "      <td>6.908065</td>\n",
       "      <td>5.351944</td>\n",
       "      <td>7.342449</td>\n",
       "      <td>8.892089</td>\n",
       "    </tr>\n",
       "    <tr>\n",
       "      <th>1</th>\n",
       "      <td>2.248289</td>\n",
       "      <td>-0.585661</td>\n",
       "      <td>-4.625192</td>\n",
       "      <td>5.826962</td>\n",
       "      <td>-1.090488</td>\n",
       "      <td>2.808712</td>\n",
       "      <td>-8.499560</td>\n",
       "    </tr>\n",
       "    <tr>\n",
       "      <th>2</th>\n",
       "      <td>3.166599</td>\n",
       "      <td>1.030258</td>\n",
       "      <td>3.807510</td>\n",
       "      <td>7.712602</td>\n",
       "      <td>4.579464</td>\n",
       "      <td>-2.682617</td>\n",
       "      <td>-1.342537</td>\n",
       "    </tr>\n",
       "    <tr>\n",
       "      <th>3</th>\n",
       "      <td>3.079420</td>\n",
       "      <td>2.853454</td>\n",
       "      <td>3.748174</td>\n",
       "      <td>8.650505</td>\n",
       "      <td>2.897442</td>\n",
       "      <td>-3.213296</td>\n",
       "      <td>-0.440185</td>\n",
       "    </tr>\n",
       "    <tr>\n",
       "      <th>4</th>\n",
       "      <td>7.725893</td>\n",
       "      <td>7.428309</td>\n",
       "      <td>-3.479445</td>\n",
       "      <td>5.676470</td>\n",
       "      <td>-0.375668</td>\n",
       "      <td>3.769964</td>\n",
       "      <td>7.806266</td>\n",
       "    </tr>\n",
       "    <tr>\n",
       "      <th>5</th>\n",
       "      <td>-10.105300</td>\n",
       "      <td>-8.047910</td>\n",
       "      <td>-10.989488</td>\n",
       "      <td>6.737778</td>\n",
       "      <td>4.830610</td>\n",
       "      <td>7.553869</td>\n",
       "      <td>9.119083</td>\n",
       "    </tr>\n",
       "    <tr>\n",
       "      <th>6</th>\n",
       "      <td>-0.927766</td>\n",
       "      <td>-0.505007</td>\n",
       "      <td>-6.936486</td>\n",
       "      <td>4.778307</td>\n",
       "      <td>-2.071822</td>\n",
       "      <td>3.938992</td>\n",
       "      <td>-10.941437</td>\n",
       "    </tr>\n",
       "    <tr>\n",
       "      <th>7</th>\n",
       "      <td>-7.528819</td>\n",
       "      <td>-7.648303</td>\n",
       "      <td>-8.741672</td>\n",
       "      <td>5.991236</td>\n",
       "      <td>4.059281</td>\n",
       "      <td>6.540605</td>\n",
       "      <td>10.179735</td>\n",
       "    </tr>\n",
       "    <tr>\n",
       "      <th>8</th>\n",
       "      <td>-8.844708</td>\n",
       "      <td>-7.857196</td>\n",
       "      <td>-8.691144</td>\n",
       "      <td>6.029673</td>\n",
       "      <td>4.712196</td>\n",
       "      <td>5.932339</td>\n",
       "      <td>8.324834</td>\n",
       "    </tr>\n",
       "    <tr>\n",
       "      <th>9</th>\n",
       "      <td>-8.293835</td>\n",
       "      <td>-8.933276</td>\n",
       "      <td>-10.078186</td>\n",
       "      <td>4.230638</td>\n",
       "      <td>7.056091</td>\n",
       "      <td>6.945011</td>\n",
       "      <td>11.090134</td>\n",
       "    </tr>\n",
       "  </tbody>\n",
       "</table>\n",
       "</div>"
      ],
      "text/plain": [
       "    Feature1  Feature2   Feature3  Feature4  Feature5  Feature6   Feature7\n",
       "0  -7.980521 -8.962858 -10.575676  6.908065  5.351944  7.342449   8.892089\n",
       "1   2.248289 -0.585661  -4.625192  5.826962 -1.090488  2.808712  -8.499560\n",
       "2   3.166599  1.030258   3.807510  7.712602  4.579464 -2.682617  -1.342537\n",
       "3   3.079420  2.853454   3.748174  8.650505  2.897442 -3.213296  -0.440185\n",
       "4   7.725893  7.428309  -3.479445  5.676470 -0.375668  3.769964   7.806266\n",
       "5 -10.105300 -8.047910 -10.989488  6.737778  4.830610  7.553869   9.119083\n",
       "6  -0.927766 -0.505007  -6.936486  4.778307 -2.071822  3.938992 -10.941437\n",
       "7  -7.528819 -7.648303  -8.741672  5.991236  4.059281  6.540605  10.179735\n",
       "8  -8.844708 -7.857196  -8.691144  6.029673  4.712196  5.932339   8.324834\n",
       "9  -8.293835 -8.933276 -10.078186  4.230638  7.056091  6.945011  11.090134"
      ]
     },
     "execution_count": 6,
     "metadata": {},
     "output_type": "execute_result"
    }
   ],
   "source": [
    "df.head(10)"
   ]
  },
  {
   "cell_type": "code",
   "execution_count": null,
   "metadata": {},
   "outputs": [],
   "source": []
  },
  {
   "cell_type": "code",
   "execution_count": 7,
   "metadata": {},
   "outputs": [],
   "source": [
    "# write out the data, the tribuo loader uses the header\n",
    "df.to_csv('/Users/gstewart/temp/development/mscs/cpsc69700/RefImpl/HDBSCAN_Star/xtrabig-gaussians-6centers.csv', index=False, header=False)\n",
    "df.to_csv('../../data/xtrabig-gaussians-6centers.csv', index=False, header=True)\n"
   ]
  },
  {
   "cell_type": "code",
   "execution_count": null,
   "metadata": {},
   "outputs": [],
   "source": []
  },
  {
   "cell_type": "code",
   "execution_count": 8,
   "metadata": {},
   "outputs": [],
   "source": [
    "# this 60:40 train test ratio isn't a recommended way to split, but gives a larger predict set for measuring performance \n",
    "df_train = df[:60000]\n",
    "df_predict = df[60000:]"
   ]
  },
  {
   "cell_type": "code",
   "execution_count": 9,
   "metadata": {},
   "outputs": [],
   "source": [
    "df_train.to_csv('../../data/xtrabig-gaussians-6centers-train.csv', index=False, header=True)\n",
    "df_predict.to_csv('../../data/xtrabig-gaussians-6centers-predict.csv', index=False, header=True)"
   ]
  }
 ],
 "metadata": {
  "kernelspec": {
   "display_name": "Python 3",
   "language": "python",
   "name": "python3"
  },
  "language_info": {
   "codemirror_mode": {
    "name": "ipython",
    "version": 3
   },
   "file_extension": ".py",
   "mimetype": "text/x-python",
   "name": "python",
   "nbconvert_exporter": "python",
   "pygments_lexer": "ipython3",
   "version": "3.9.1"
  }
 },
 "nbformat": 4,
 "nbformat_minor": 4
}
