{
 "cells": [
  {
   "cell_type": "markdown",
   "metadata": {},
   "source": [
    "## This notebook prepares a dataset for testing HDBSCAN Performance: 50000 records, 10 centers, 99 features"
   ]
  },
  {
   "cell_type": "code",
   "execution_count": 1,
   "metadata": {},
   "outputs": [],
   "source": [
    "import numpy as np\n",
    "import pandas as pd\n",
    "from sklearn.datasets import make_blobs"
   ]
  },
  {
   "cell_type": "code",
   "execution_count": 2,
   "metadata": {},
   "outputs": [],
   "source": [
    "X, y = make_blobs(n_samples=50000, centers=10, n_features=99, random_state=0)"
   ]
  },
  {
   "cell_type": "code",
   "execution_count": 3,
   "metadata": {},
   "outputs": [
    {
     "name": "stdout",
     "output_type": "stream",
     "text": [
      "(50000, 99)\n"
     ]
    }
   ],
   "source": [
    "print(X.shape)"
   ]
  },
  {
   "cell_type": "code",
   "execution_count": 5,
   "metadata": {},
   "outputs": [],
   "source": [
    "# print(X[0])"
   ]
  },
  {
   "cell_type": "code",
   "execution_count": 9,
   "metadata": {},
   "outputs": [
    {
     "name": "stdout",
     "output_type": "stream",
     "text": [
      "'Feature1': X[:, 0],'Feature2': X[:, 1],'Feature3': X[:, 2],'Feature4': X[:, 3],'Feature5': X[:, 4],'Feature6': X[:, 5],'Feature7': X[:, 6],'Feature8': X[:, 7],'Feature9': X[:, 8],'Feature10': X[:, 9],'Feature11': X[:, 10],'Feature12': X[:, 11],'Feature13': X[:, 12],'Feature14': X[:, 13],'Feature15': X[:, 14],'Feature16': X[:, 15],'Feature17': X[:, 16],'Feature18': X[:, 17],'Feature19': X[:, 18],'Feature20': X[:, 19],'Feature21': X[:, 20],'Feature22': X[:, 21],'Feature23': X[:, 22],'Feature24': X[:, 23],'Feature25': X[:, 24],'Feature26': X[:, 25],'Feature27': X[:, 26],'Feature28': X[:, 27],'Feature29': X[:, 28],'Feature30': X[:, 29],'Feature31': X[:, 30],'Feature32': X[:, 31],'Feature33': X[:, 32],'Feature34': X[:, 33],'Feature35': X[:, 34],'Feature36': X[:, 35],'Feature37': X[:, 36],'Feature38': X[:, 37],'Feature39': X[:, 38],'Feature40': X[:, 39],'Feature41': X[:, 40],'Feature42': X[:, 41],'Feature43': X[:, 42],'Feature44': X[:, 43],'Feature45': X[:, 44],'Feature46': X[:, 45],'Feature47': X[:, 46],'Feature48': X[:, 47],'Feature49': X[:, 48],'Feature50': X[:, 49],'Feature51': X[:, 50],'Feature52': X[:, 51],'Feature53': X[:, 52],'Feature54': X[:, 53],'Feature55': X[:, 54],'Feature56': X[:, 55],'Feature57': X[:, 56],'Feature58': X[:, 57],'Feature59': X[:, 58],'Feature60': X[:, 59],'Feature61': X[:, 60],'Feature62': X[:, 61],'Feature63': X[:, 62],'Feature64': X[:, 63],'Feature65': X[:, 64],'Feature66': X[:, 65],'Feature67': X[:, 66],'Feature68': X[:, 67],'Feature69': X[:, 68],'Feature70': X[:, 69],'Feature71': X[:, 70],'Feature72': X[:, 71],'Feature73': X[:, 72],'Feature74': X[:, 73],'Feature75': X[:, 74],'Feature76': X[:, 75],'Feature77': X[:, 76],'Feature78': X[:, 77],'Feature79': X[:, 78],'Feature80': X[:, 79],'Feature81': X[:, 80],'Feature82': X[:, 81],'Feature83': X[:, 82],'Feature84': X[:, 83],'Feature85': X[:, 84],'Feature86': X[:, 85],'Feature87': X[:, 86],'Feature88': X[:, 87],'Feature89': X[:, 88],'Feature90': X[:, 89],'Feature91': X[:, 90],'Feature92': X[:, 91],'Feature93': X[:, 92],'Feature94': X[:, 93],'Feature95': X[:, 94],'Feature96': X[:, 95],'Feature97': X[:, 96],'Feature98': X[:, 97],'Feature99': X[:, 98]\n"
     ]
    }
   ],
   "source": [
    "snip_list = []\n",
    "for i in range(99):\n",
    "    # print(\"'Feature%d': X[:, %d]\" % (i+1, i))\n",
    "    snip_list.append(\"'Feature%d': X[:, %d]\" % (i+1, i))\n",
    "col_list_str = ','.join(snip_list)\n",
    "print(col_list_str)"
   ]
  },
  {
   "cell_type": "code",
   "execution_count": 5,
   "metadata": {},
   "outputs": [],
   "source": [
    "# df = pd.DataFrame({'Feature1': X[:, 0], 'Feature2': X[:, 1], 'Feature3': X[:, 2], 'Feature4': X[:, 3],\n",
    "#                   'Feature5': X[:, 4], 'Feature6': X[:, 5], 'Feature7': X[:, 6]})\n",
    "\n",
    "pd.DataFrame({'Feature1': X[:, 0],'Feature2': X[:, 1],'Feature3': X[:, 2],'Feature4': X[:, 3],'Feature5': X[:, 4],'Feature6': X[:, 5],'Feature7': X[:, 6],'Feature8': X[:, 7],'Feature9': X[:, 8],'Feature10': X[:, 9],'Feature11': X[:, 10],'Feature12': X[:, 11],'Feature13': X[:, 12],'Feature14': X[:, 13],'Feature15': X[:, 14],'Feature16': X[:, 15],'Feature17': X[:, 16],'Feature18': X[:, 17],'Feature19': X[:, 18],'Feature20': X[:, 19],'Feature21': X[:, 20],'Feature22': X[:, 21],'Feature23': X[:, 22],'Feature24': X[:, 23],'Feature25': X[:, 24],'Feature26': X[:, 25],'Feature27': X[:, 26],'Feature28': X[:, 27],'Feature29': X[:, 28],'Feature30': X[:, 29],'Feature31': X[:, 30],'Feature32': X[:, 31],'Feature33': X[:, 32],'Feature34': X[:, 33],'Feature35': X[:, 34],'Feature36': X[:, 35],'Feature37': X[:, 36],'Feature38': X[:, 37],'Feature39': X[:, 38],'Feature40': X[:, 39],'Feature41': X[:, 40],'Feature42': X[:, 41],'Feature43': X[:, 42],'Feature44': X[:, 43],'Feature45': X[:, 44],'Feature46': X[:, 45],'Feature47': X[:, 46],'Feature48': X[:, 47],'Feature49': X[:, 48],'Feature50': X[:, 49],'Feature51': X[:, 50],'Feature52': X[:, 51],'Feature53': X[:, 52],'Feature54': X[:, 53],'Feature55': X[:, 54],'Feature56': X[:, 55],'Feature57': X[:, 56],'Feature58': X[:, 57],'Feature59': X[:, 58],'Feature60': X[:, 59],'Feature61': X[:, 60],'Feature62': X[:, 61],'Feature63': X[:, 62],'Feature64': X[:, 63],'Feature65': X[:, 64],'Feature66': X[:, 65],'Feature67': X[:, 66],'Feature68': X[:, 67],'Feature69': X[:, 68],'Feature70': X[:, 69],'Feature71': X[:, 70],'Feature72': X[:, 71],'Feature73': X[:, 72],'Feature74': X[:, 73],'Feature75': X[:, 74],'Feature76': X[:, 75],'Feature77': X[:, 76],'Feature78': X[:, 77],'Feature79': X[:, 78],'Feature80': X[:, 79],'Feature81': X[:, 80],'Feature82': X[:, 81],'Feature83': X[:, 82],'Feature84': X[:, 83],'Feature85': X[:, 84],'Feature86': X[:, 85],'Feature87': X[:, 86],'Feature88': X[:, 87],'Feature89': X[:, 88],'Feature90': X[:, 89],'Feature91': X[:, 90],'Feature92': X[:, 91],'Feature93': X[:, 92],'Feature94': X[:, 93],'Feature95': X[:, 94],'Feature96': X[:, 95],'Feature97': X[:, 96],'Feature98': X[:, 97],'Feature99': X[:, 98]})\n"
   ]
  },
  {
   "cell_type": "code",
   "execution_count": 6,
   "metadata": {},
   "outputs": [
    {
     "data": {
      "text/html": [
       "<div>\n",
       "<style scoped>\n",
       "    .dataframe tbody tr th:only-of-type {\n",
       "        vertical-align: middle;\n",
       "    }\n",
       "\n",
       "    .dataframe tbody tr th {\n",
       "        vertical-align: top;\n",
       "    }\n",
       "\n",
       "    .dataframe thead th {\n",
       "        text-align: right;\n",
       "    }\n",
       "</style>\n",
       "<table border=\"1\" class=\"dataframe\">\n",
       "  <thead>\n",
       "    <tr style=\"text-align: right;\">\n",
       "      <th></th>\n",
       "      <th>Feature1</th>\n",
       "      <th>Feature2</th>\n",
       "      <th>Feature3</th>\n",
       "      <th>Feature4</th>\n",
       "      <th>Feature5</th>\n",
       "      <th>Feature6</th>\n",
       "      <th>Feature7</th>\n",
       "    </tr>\n",
       "  </thead>\n",
       "  <tbody>\n",
       "    <tr>\n",
       "      <th>0</th>\n",
       "      <td>-7.980521</td>\n",
       "      <td>-8.962858</td>\n",
       "      <td>-10.575676</td>\n",
       "      <td>6.908065</td>\n",
       "      <td>5.351944</td>\n",
       "      <td>7.342449</td>\n",
       "      <td>8.892089</td>\n",
       "    </tr>\n",
       "    <tr>\n",
       "      <th>1</th>\n",
       "      <td>2.248289</td>\n",
       "      <td>-0.585661</td>\n",
       "      <td>-4.625192</td>\n",
       "      <td>5.826962</td>\n",
       "      <td>-1.090488</td>\n",
       "      <td>2.808712</td>\n",
       "      <td>-8.499560</td>\n",
       "    </tr>\n",
       "    <tr>\n",
       "      <th>2</th>\n",
       "      <td>3.166599</td>\n",
       "      <td>1.030258</td>\n",
       "      <td>3.807510</td>\n",
       "      <td>7.712602</td>\n",
       "      <td>4.579464</td>\n",
       "      <td>-2.682617</td>\n",
       "      <td>-1.342537</td>\n",
       "    </tr>\n",
       "    <tr>\n",
       "      <th>3</th>\n",
       "      <td>3.079420</td>\n",
       "      <td>2.853454</td>\n",
       "      <td>3.748174</td>\n",
       "      <td>8.650505</td>\n",
       "      <td>2.897442</td>\n",
       "      <td>-3.213296</td>\n",
       "      <td>-0.440185</td>\n",
       "    </tr>\n",
       "    <tr>\n",
       "      <th>4</th>\n",
       "      <td>7.725893</td>\n",
       "      <td>7.428309</td>\n",
       "      <td>-3.479445</td>\n",
       "      <td>5.676470</td>\n",
       "      <td>-0.375668</td>\n",
       "      <td>3.769964</td>\n",
       "      <td>7.806266</td>\n",
       "    </tr>\n",
       "    <tr>\n",
       "      <th>5</th>\n",
       "      <td>-10.105300</td>\n",
       "      <td>-8.047910</td>\n",
       "      <td>-10.989488</td>\n",
       "      <td>6.737778</td>\n",
       "      <td>4.830610</td>\n",
       "      <td>7.553869</td>\n",
       "      <td>9.119083</td>\n",
       "    </tr>\n",
       "    <tr>\n",
       "      <th>6</th>\n",
       "      <td>-0.927766</td>\n",
       "      <td>-0.505007</td>\n",
       "      <td>-6.936486</td>\n",
       "      <td>4.778307</td>\n",
       "      <td>-2.071822</td>\n",
       "      <td>3.938992</td>\n",
       "      <td>-10.941437</td>\n",
       "    </tr>\n",
       "    <tr>\n",
       "      <th>7</th>\n",
       "      <td>-7.528819</td>\n",
       "      <td>-7.648303</td>\n",
       "      <td>-8.741672</td>\n",
       "      <td>5.991236</td>\n",
       "      <td>4.059281</td>\n",
       "      <td>6.540605</td>\n",
       "      <td>10.179735</td>\n",
       "    </tr>\n",
       "    <tr>\n",
       "      <th>8</th>\n",
       "      <td>-8.844708</td>\n",
       "      <td>-7.857196</td>\n",
       "      <td>-8.691144</td>\n",
       "      <td>6.029673</td>\n",
       "      <td>4.712196</td>\n",
       "      <td>5.932339</td>\n",
       "      <td>8.324834</td>\n",
       "    </tr>\n",
       "    <tr>\n",
       "      <th>9</th>\n",
       "      <td>-8.293835</td>\n",
       "      <td>-8.933276</td>\n",
       "      <td>-10.078186</td>\n",
       "      <td>4.230638</td>\n",
       "      <td>7.056091</td>\n",
       "      <td>6.945011</td>\n",
       "      <td>11.090134</td>\n",
       "    </tr>\n",
       "  </tbody>\n",
       "</table>\n",
       "</div>"
      ],
      "text/plain": [
       "    Feature1  Feature2   Feature3  Feature4  Feature5  Feature6   Feature7\n",
       "0  -7.980521 -8.962858 -10.575676  6.908065  5.351944  7.342449   8.892089\n",
       "1   2.248289 -0.585661  -4.625192  5.826962 -1.090488  2.808712  -8.499560\n",
       "2   3.166599  1.030258   3.807510  7.712602  4.579464 -2.682617  -1.342537\n",
       "3   3.079420  2.853454   3.748174  8.650505  2.897442 -3.213296  -0.440185\n",
       "4   7.725893  7.428309  -3.479445  5.676470 -0.375668  3.769964   7.806266\n",
       "5 -10.105300 -8.047910 -10.989488  6.737778  4.830610  7.553869   9.119083\n",
       "6  -0.927766 -0.505007  -6.936486  4.778307 -2.071822  3.938992 -10.941437\n",
       "7  -7.528819 -7.648303  -8.741672  5.991236  4.059281  6.540605  10.179735\n",
       "8  -8.844708 -7.857196  -8.691144  6.029673  4.712196  5.932339   8.324834\n",
       "9  -8.293835 -8.933276 -10.078186  4.230638  7.056091  6.945011  11.090134"
      ]
     },
     "execution_count": 6,
     "metadata": {},
     "output_type": "execute_result"
    }
   ],
   "source": [
    "#df.head(10)"
   ]
  },
  {
   "cell_type": "code",
   "execution_count": null,
   "metadata": {},
   "outputs": [],
   "source": []
  },
  {
   "cell_type": "code",
   "execution_count": 7,
   "metadata": {},
   "outputs": [],
   "source": [
    "# write out the data, the tribuo loader uses the header\n",
    "# df.to_csv('/Users/gstewart/temp/DNExist/xtrabig-gaussians-10centers.csv', index=False, header=False)\n",
    "df.to_csv('../../data/xtrabig-gaussians-10centers.csv', index=False, header=True)\n"
   ]
  },
  {
   "cell_type": "code",
   "execution_count": null,
   "metadata": {},
   "outputs": [],
   "source": []
  },
  {
   "cell_type": "code",
   "execution_count": null,
   "metadata": {},
   "outputs": [],
   "source": [
    "# not planning to use below"
   ]
  },
  {
   "cell_type": "code",
   "execution_count": 8,
   "metadata": {},
   "outputs": [],
   "source": [
    "# this 60:40 train test ratio isn't a recommended way to split, but gives a larger predict set for measuring performance \n",
    "df_train = df[:60000]\n",
    "df_predict = df[60000:]"
   ]
  },
  {
   "cell_type": "code",
   "execution_count": 9,
   "metadata": {},
   "outputs": [],
   "source": [
    "# df_train.to_csv('../../data/xtrabig-gaussians-6centers-train.csv', index=False, header=True)\n",
    "# df_predict.to_csv('../../data/xtrabig-gaussians-6centers-predict.csv', index=False, header=True)"
   ]
  }
 ],
 "metadata": {
  "kernelspec": {
   "display_name": "Python 3",
   "language": "python",
   "name": "python3"
  },
  "language_info": {
   "codemirror_mode": {
    "name": "ipython",
    "version": 3
   },
   "file_extension": ".py",
   "mimetype": "text/x-python",
   "name": "python",
   "nbconvert_exporter": "python",
   "pygments_lexer": "ipython3",
   "version": "3.9.1"
  }
 },
 "nbformat": 4,
 "nbformat_minor": 4
}
